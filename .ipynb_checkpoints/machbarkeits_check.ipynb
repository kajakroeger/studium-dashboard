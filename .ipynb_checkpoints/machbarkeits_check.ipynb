{
 "cells": [
  {
   "cell_type": "markdown",
   "id": "846b4dae-b11b-4add-9e84-361e1d386c30",
   "metadata": {
    "jp-MarkdownHeadingCollapsed": true
   },
   "source": [
    "## Test 1: SQlite Verbindung"
   ]
  },
  {
   "cell_type": "markdown",
   "id": "064e4092-f200-4ec9-84a7-0cda2792460b",
   "metadata": {},
   "source": [
    "### Schreiben in die studium.db"
   ]
  },
  {
   "cell_type": "code",
   "execution_count": null,
   "id": "10b390f1-b829-413c-b7a1-f703ac09ee11",
   "metadata": {},
   "outputs": [],
   "source": [
    "import sqlite3\n",
    "con = sqlite3.connect(\"studium.db\")\n",
    "cur = con.cursor()\n",
    "cur.execute(\"INSERT INTO kurs (name, ects, note) VALUES (?,?,?)\", (\"Datenbanken\", 5, 2.0))\n",
    "con.commit()\n",
    "con.close()"
   ]
  },
  {
   "cell_type": "markdown",
   "id": "636684cc-df60-4360-8e88-aaffbe0d03af",
   "metadata": {},
   "source": [
    "### Lesen aus der studium.db"
   ]
  },
  {
   "cell_type": "code",
   "execution_count": null,
   "id": "b2ef192d-506e-4b98-80da-c03c7c998349",
   "metadata": {},
   "outputs": [],
   "source": [
    "import sqlite3\n",
    "con = sqlite3.connect(\"studium.db\")\n",
    "rows = con.execute(\"SELECT name, ects, note FROM kurs\").fetchall()\n",
    "con.close()\n",
    "rows"
   ]
  },
  {
   "cell_type": "markdown",
   "id": "3a7b7ccd-833f-4942-91af-ae5af1869912",
   "metadata": {},
   "source": [
    "### Daten aus studium.db entfernen\n",
    "nach Namen löschen"
   ]
  },
  {
   "cell_type": "code",
   "execution_count": null,
   "id": "33014c61-4b31-44ea-a772-7f2bcdee215c",
   "metadata": {},
   "outputs": [],
   "source": [
    "con = sqlite3.connect(\"studium.db\")\n",
    "cur = con.cursor()\n",
    "cur.execute(\"DELETE FROM kurs WHERE name = ?\", (\"Datenbanken\",))\n",
    "con.commit(); con.close()"
   ]
  },
  {
   "cell_type": "markdown",
   "id": "16ea857d-df6d-4770-954f-524425f31485",
   "metadata": {
    "jp-MarkdownHeadingCollapsed": true
   },
   "source": [
    "## Test 2: Berechnungen mit Pandas "
   ]
  },
  {
   "cell_type": "markdown",
   "id": "0e6f4d1a-4207-4279-8436-494b45444660",
   "metadata": {},
   "source": [
    "### Daten aus SQLite mit pandas abrufen"
   ]
  },
  {
   "cell_type": "code",
   "execution_count": null,
   "id": "9f90a1d4-a325-41b3-bf20-d0d15c1167d3",
   "metadata": {},
   "outputs": [],
   "source": [
    "import sqlite3\n",
    "import pandas as pd\n",
    "\n",
    "# Verbindung zur Datenbank\n",
    "con = sqlite3.connect(\"studium.db\")\n",
    "\n",
    "# SQL-Abfrage mit pandas direkt laden\n",
    "df = pd.read_sql_query(\"SELECT * FROM kurs\", con)\n",
    "\n",
    "# Verbindung schließen\n",
    "con.close()\n",
    "\n",
    "# DataFrame anzeigen\n",
    "print(df)"
   ]
  },
  {
   "cell_type": "markdown",
   "id": "9b8add83-e2a9-477d-8442-b9c638899947",
   "metadata": {},
   "source": [
    "### Kennzahlen berechnen\n",
    "Summe der erreichten ECTS "
   ]
  },
  {
   "cell_type": "code",
   "execution_count": null,
   "id": "7c0cb3d9-0368-4ec8-8d3b-9e9cac869fa6",
   "metadata": {},
   "outputs": [],
   "source": [
    "ects_summe = df[\"ects\"].sum()\n",
    "print(\"ECTS gesamt:\", ects_summe)"
   ]
  },
  {
   "cell_type": "markdown",
   "id": "a9d6b5bf-ce54-4389-ba04-e7420b9bde56",
   "metadata": {},
   "source": [
    "Durchschnittsnote"
   ]
  },
  {
   "cell_type": "code",
   "execution_count": null,
   "id": "71ece884-0826-418a-97c3-2788894f005c",
   "metadata": {},
   "outputs": [],
   "source": [
    "durchschnitt = df[\"note\"].mean()\n",
    "print(\"Durchschnittsnote:\", round(durchschnitt, 2))"
   ]
  },
  {
   "cell_type": "markdown",
   "id": "4f838d0d-d63b-446e-97f1-9d66441678f8",
   "metadata": {},
   "source": [
    "Anzahl der absolvierten Kurse"
   ]
  },
  {
   "cell_type": "code",
   "execution_count": null,
   "id": "de4d3fed-a52c-4200-a261-6fd73ecc5d6a",
   "metadata": {},
   "outputs": [],
   "source": [
    "anzahl_kurse = len(df)\n",
    "print(\"Anzahl der absolvierten Kurse:\", anzahl_kurse)"
   ]
  },
  {
   "cell_type": "markdown",
   "id": "e9a80bca-0dd6-4e53-bc30-088415166bb0",
   "metadata": {},
   "source": [
    "## Test 3: Visualisierungen mit Plotly"
   ]
  },
  {
   "cell_type": "markdown",
   "id": "34490b03-1f8a-4373-8338-78a583c0037b",
   "metadata": {
    "jp-MarkdownHeadingCollapsed": true
   },
   "source": [
    "### Die Kurse Daten aus der Datenbank laden"
   ]
  },
  {
   "cell_type": "code",
   "execution_count": null,
   "id": "54a719f2-9230-4eb6-8899-819672292079",
   "metadata": {},
   "outputs": [],
   "source": [
    "import sqlite3, pandas as pd\n",
    "\n",
    "con = sqlite3.connect(\"studium.db\")\n",
    "\n",
    "# Kurse (id, name, ects, note)\n",
    "df_kurs = pd.read_sql_query(\"\"\"\n",
    "    SELECT name, ects, note\n",
    "    FROM kurs\n",
    "    ORDER BY id\n",
    "\"\"\", con)\n",
    "\n",
    "con.close()\n",
    "df_kurs\n",
    "\n",
    "# Damit nur die ersten 2 Wörter auf der X-Achse stehen\n",
    "df_kurs[\"kurzname\"] = df_kurs[\"name\"].apply(lambda x: \" \".join(x.split()[:2]))\n"
   ]
  },
  {
   "cell_type": "markdown",
   "id": "de4f9f66-ab51-4777-8497-74594d1e57fb",
   "metadata": {
    "jp-MarkdownHeadingCollapsed": true
   },
   "source": [
    "### Liniendiagramm: Notenverlauf"
   ]
  },
  {
   "cell_type": "code",
   "execution_count": null,
   "id": "bac37773-42b0-48f8-91e8-906e2b4c2d1a",
   "metadata": {},
   "outputs": [],
   "source": [
    "import plotly.express as px\n",
    "\n",
    "fig = px.line(\n",
    "    df_kurs,\n",
    "    x=\"kurzname\",\n",
    "    y=\"note\",\n",
    "    markers=True,\n",
    "    title=\"Notenentwicklung pro Kurs\",\n",
    "    labels={\"kurzname\":\"Kurs\", \"note\":\"Note\"},\n",
    "    hover_data=[\"name\"]   # voller Kursname als Hover\n",
    ")\n",
    "fig.update_yaxes(autorange=\"reversed\")  # bessere Noten (1.0) oben\n",
    "\n",
    "fig.show()"
   ]
  },
  {
   "cell_type": "markdown",
   "id": "c6c173b2-2c56-4c46-ad8f-3ca80dc37d44",
   "metadata": {
    "jp-MarkdownHeadingCollapsed": true
   },
   "source": [
    "### Balkendiagramm: ETCS pro Kurs"
   ]
  },
  {
   "cell_type": "code",
   "execution_count": null,
   "id": "d0406ee3-ec01-4420-9be2-832d9da18c11",
   "metadata": {},
   "outputs": [],
   "source": [
    "import sqlite3, pandas as pd\n",
    "import plotly.express as px\n",
    "\n",
    "# Verbindung zur DB\n",
    "con = sqlite3.connect(\"studium.db\")\n",
    "\n",
    "# Kurse + Bearbeitung abrufen\n",
    "df = pd.read_sql_query(\"\"\"\n",
    "    SELECT k.name, b.start_datum, b.abgabe_datum\n",
    "    FROM bearbeitung b\n",
    "    JOIN kurs k ON k.id = b.kurs_id\n",
    "\"\"\", con)\n",
    "\n",
    "con.close()\n",
    "\n",
    "# Umwandeln in Datetime\n",
    "df[\"start_datum\"] = pd.to_datetime(df[\"start_datum\"])\n",
    "df[\"abgabe_datum\"] = pd.to_datetime(df[\"abgabe_datum\"])\n",
    "\n",
    "# Bearbeitungszeit in Tagen berechnen (falls abgabe NULL → NaN)\n",
    "df[\"bearbeitungszeit_tage\"] = (df[\"abgabe_datum\"] - df[\"start_datum\"]).dt.days\n",
    "\n",
    "# Kurzlabel für X-Achse (max. 2 Wörter)\n",
    "df[\"kurzname\"] = df[\"name\"].apply(lambda x: \" \".join(x.split()[:2]))\n",
    "\n",
    "# Balkendiagramm\n",
    "fig = px.bar(\n",
    "    df,\n",
    "    x=\"kurzname\",\n",
    "    y=\"bearbeitungszeit_tage\",\n",
    "    title=\"Bearbeitungszeit pro Kurs (Tage)\",\n",
    "    labels={\"kurzname\": \"Kurs\", \"bearbeitungszeit_tage\": \"Bearbeitungszeit (Tage)\"},\n",
    "    text=\"bearbeitungszeit_tage\",   # Tage als Zahl über Balken\n",
    "    hover_name=\"name\"               # voller Kursname im Tooltip\n",
    ")\n",
    "\n",
    "fig.show()"
   ]
  },
  {
   "cell_type": "markdown",
   "id": "22fed45c-8866-4c54-9152-185aa20f4540",
   "metadata": {
    "jp-MarkdownHeadingCollapsed": true
   },
   "source": [
    "### Donut-Chart: ETCS-Fortschritt"
   ]
  },
  {
   "cell_type": "code",
   "execution_count": null,
   "id": "6e4158b3-0e38-41e2-9a82-43a5138049f7",
   "metadata": {},
   "outputs": [],
   "source": [
    "import sqlite3\n",
    "import plotly.graph_objects as go\n",
    "\n",
    "# --- Daten laden ---\n",
    "ECTS_ZIEL = 180\n",
    "\n",
    "con = sqlite3.connect(\"studium.db\")\n",
    "row = con.execute(\"SELECT COALESCE(SUM(ects), 0) FROM kurs\").fetchone()\n",
    "con.close()\n",
    "\n",
    "ects_erreicht = int(row[0] or 0)\n",
    "ects_offen = max(0, ECTS_ZIEL - ects_erreicht)\n",
    "prozent = min(100, round(ects_erreicht / ECTS_ZIEL * 100, 1))\n",
    "\n",
    "# --- Donut-Chart ---\n",
    "fig = go.Figure(go.Pie(\n",
    "    labels=[\"Erreicht\", \"Offen\"],\n",
    "    values=[ects_erreicht, ects_offen],\n",
    "    hole=0.7,\n",
    "    sort=False,\n",
    "    textinfo=\"none\"       # Beschriftung außen aus\n",
    "))\n",
    "\n",
    "# Prozent & Untertitel in die Mitte + Titel\n",
    "fig.update_layout(\n",
    "    title=\"Status Übersicht\",\n",
    "    annotations=[\n",
    "        dict(text=f\"{prozent} %\", x=0.5, y=0.5, font_size=22, showarrow=False),\n",
    "        dict(text=f\"{ects_erreicht} von {ECTS_ZIEL} ECTS<br>erreicht\",\n",
    "             x=0.5, y=0.35, font_size=12, showarrow=False)\n",
    "    ],\n",
    "    showlegend=False,\n",
    "    margin=dict(l=20, r=20, t=60, b=20)\n",
    ")\n",
    "\n",
    "fig.show()\n"
   ]
  },
  {
   "cell_type": "markdown",
   "id": "fb83f189-e0d9-4e9b-9ee7-8213df9beb8e",
   "metadata": {
    "jp-MarkdownHeadingCollapsed": true
   },
   "source": [
    "### Tacho-Anzeige: Durchschnittsnote"
   ]
  },
  {
   "cell_type": "code",
   "execution_count": null,
   "id": "5c4465a8-4c4d-4c9a-bca0-4ef84123df6a",
   "metadata": {},
   "outputs": [],
   "source": [
    "import sqlite3\n",
    "import plotly.graph_objects as go\n",
    "\n",
    "# Durchschnitt aus DB laden\n",
    "con = sqlite3.connect(\"studium.db\")\n",
    "row = con.execute(\"SELECT AVG(note) FROM kurs WHERE note IS NOT NULL\").fetchone()\n",
    "con.close()\n",
    "avg_note = round(row[0], 2) if row[0] is not None else None\n",
    "\n",
    "fig = go.Figure(go.Indicator(\n",
    "    mode=\"gauge+number\",\n",
    "    value=avg_note if avg_note is not None else 5,   # Fallback, falls keine Note vorhanden\n",
    "    number={'suffix': \"\"}, \n",
    "    title={'text': f\"Ø Note: {avg_note if avg_note is not None else '—'}\"},\n",
    "    gauge={\n",
    "        'shape': 'angular',\n",
    "        # ACHTUNG: umgedrehte Skala -> 5 links, 1 rechts (grün rechts)\n",
    "        'axis': {'range': [5, 1], 'dtick': 1},\n",
    "        # schlanke \"Nadel\"\n",
    "        'bar': {'color': 'black', 'thickness': 0.02},\n",
    "        # Farbbereiche: rot (schlecht) links -> gelb -> grün (gut) rechts\n",
    "        'steps': [\n",
    "            {'range': [5, 3], 'color': '#e88383'},   # 5.0–3.0  (rot)\n",
    "            {'range': [3, 2], 'color': '#f0c23a'},   # 3.0–2.0  (gelb)\n",
    "            {'range': [2, 1], 'color': '#37b26c'},   # 2.0–1.0  (grün) – rechts\n",
    "        ],\n",
    "    }\n",
    "))\n",
    "\n",
    "fig.update_layout(\n",
    "    margin=dict(l=20, r=20, t=40, b=10),\n",
    ")\n",
    "\n",
    "fig.show()\n"
   ]
  },
  {
   "cell_type": "markdown",
   "id": "ff7070c1-e294-40cb-89c2-095e7d3396ba",
   "metadata": {
    "jp-MarkdownHeadingCollapsed": true
   },
   "source": [
    "### Burn Down Chart: erreichte ECTS vs Abschlussdatum"
   ]
  },
  {
   "cell_type": "code",
   "execution_count": 11,
   "id": "0b05882e-7b3e-401e-a5de-0d37192c9630",
   "metadata": {},
   "outputs": [
    {
     "data": {
      "application/vnd.plotly.v1+json": {
       "config": {
        "plotlyServerURL": "https://plot.ly"
       },
       "data": [
        {
         "line": {
          "color": "black",
          "width": 2
         },
         "marker": {
          "size": 5
         },
         "mode": "lines+markers",
         "name": "Plan",
         "type": "scatter",
         "x": [
          "2023-04-30T00:00:00",
          "2023-05-31T00:00:00",
          "2023-06-30T00:00:00",
          "2023-07-31T00:00:00",
          "2023-08-31T00:00:00",
          "2023-09-30T00:00:00",
          "2023-10-31T00:00:00",
          "2023-11-30T00:00:00",
          "2023-12-31T00:00:00",
          "2024-01-31T00:00:00",
          "2024-02-29T00:00:00",
          "2024-03-31T00:00:00",
          "2024-04-30T00:00:00",
          "2024-05-31T00:00:00",
          "2024-06-30T00:00:00",
          "2024-07-31T00:00:00",
          "2024-08-31T00:00:00",
          "2024-09-30T00:00:00",
          "2024-10-31T00:00:00",
          "2024-11-30T00:00:00",
          "2024-12-31T00:00:00",
          "2025-01-31T00:00:00",
          "2025-02-28T00:00:00",
          "2025-03-31T00:00:00",
          "2025-04-30T00:00:00",
          "2025-05-31T00:00:00",
          "2025-06-30T00:00:00",
          "2025-07-31T00:00:00",
          "2025-08-31T00:00:00",
          "2025-09-30T00:00:00",
          "2025-10-31T00:00:00",
          "2025-11-30T00:00:00",
          "2025-12-31T00:00:00",
          "2026-01-31T00:00:00",
          "2026-02-28T00:00:00",
          "2026-03-31T00:00:00"
         ],
         "y": [
          180,
          175,
          170,
          165,
          160,
          155,
          150,
          145,
          140,
          135,
          130,
          125,
          120,
          115,
          110,
          105,
          100,
          95,
          90,
          85,
          80,
          75,
          70,
          65,
          60,
          55,
          50,
          45,
          40,
          35,
          30,
          25,
          20,
          15,
          10,
          5
         ]
        },
        {
         "line": {
          "color": "teal",
          "width": 3
         },
         "marker": {
          "size": 7
         },
         "mode": "lines+markers",
         "name": "Ist",
         "type": "scatter",
         "x": [
          "2023-04-01T00:00:00",
          "2023-04-30T00:00:00",
          "2023-05-27T00:00:00",
          "2023-06-25T00:00:00",
          "2023-08-03T00:00:00",
          "2023-09-07T00:00:00",
          "2023-09-30T00:00:00",
          "2023-11-07T00:00:00"
         ],
         "y": [
          180,
          175,
          170,
          165,
          160,
          155,
          150,
          145
         ]
        }
       ],
       "layout": {
        "autosize": true,
        "hovermode": "x unified",
        "margin": {
         "b": 40,
         "l": 40,
         "r": 20,
         "t": 60
        },
        "template": {
         "data": {
          "bar": [
           {
            "error_x": {
             "color": "#2a3f5f"
            },
            "error_y": {
             "color": "#2a3f5f"
            },
            "marker": {
             "line": {
              "color": "white",
              "width": 0.5
             },
             "pattern": {
              "fillmode": "overlay",
              "size": 10,
              "solidity": 0.2
             }
            },
            "type": "bar"
           }
          ],
          "barpolar": [
           {
            "marker": {
             "line": {
              "color": "white",
              "width": 0.5
             },
             "pattern": {
              "fillmode": "overlay",
              "size": 10,
              "solidity": 0.2
             }
            },
            "type": "barpolar"
           }
          ],
          "carpet": [
           {
            "aaxis": {
             "endlinecolor": "#2a3f5f",
             "gridcolor": "#C8D4E3",
             "linecolor": "#C8D4E3",
             "minorgridcolor": "#C8D4E3",
             "startlinecolor": "#2a3f5f"
            },
            "baxis": {
             "endlinecolor": "#2a3f5f",
             "gridcolor": "#C8D4E3",
             "linecolor": "#C8D4E3",
             "minorgridcolor": "#C8D4E3",
             "startlinecolor": "#2a3f5f"
            },
            "type": "carpet"
           }
          ],
          "choropleth": [
           {
            "colorbar": {
             "outlinewidth": 0,
             "ticks": ""
            },
            "type": "choropleth"
           }
          ],
          "contour": [
           {
            "colorbar": {
             "outlinewidth": 0,
             "ticks": ""
            },
            "colorscale": [
             [
              0,
              "#0d0887"
             ],
             [
              0.1111111111111111,
              "#46039f"
             ],
             [
              0.2222222222222222,
              "#7201a8"
             ],
             [
              0.3333333333333333,
              "#9c179e"
             ],
             [
              0.4444444444444444,
              "#bd3786"
             ],
             [
              0.5555555555555556,
              "#d8576b"
             ],
             [
              0.6666666666666666,
              "#ed7953"
             ],
             [
              0.7777777777777778,
              "#fb9f3a"
             ],
             [
              0.8888888888888888,
              "#fdca26"
             ],
             [
              1,
              "#f0f921"
             ]
            ],
            "type": "contour"
           }
          ],
          "contourcarpet": [
           {
            "colorbar": {
             "outlinewidth": 0,
             "ticks": ""
            },
            "type": "contourcarpet"
           }
          ],
          "heatmap": [
           {
            "colorbar": {
             "outlinewidth": 0,
             "ticks": ""
            },
            "colorscale": [
             [
              0,
              "#0d0887"
             ],
             [
              0.1111111111111111,
              "#46039f"
             ],
             [
              0.2222222222222222,
              "#7201a8"
             ],
             [
              0.3333333333333333,
              "#9c179e"
             ],
             [
              0.4444444444444444,
              "#bd3786"
             ],
             [
              0.5555555555555556,
              "#d8576b"
             ],
             [
              0.6666666666666666,
              "#ed7953"
             ],
             [
              0.7777777777777778,
              "#fb9f3a"
             ],
             [
              0.8888888888888888,
              "#fdca26"
             ],
             [
              1,
              "#f0f921"
             ]
            ],
            "type": "heatmap"
           }
          ],
          "heatmapgl": [
           {
            "colorbar": {
             "outlinewidth": 0,
             "ticks": ""
            },
            "colorscale": [
             [
              0,
              "#0d0887"
             ],
             [
              0.1111111111111111,
              "#46039f"
             ],
             [
              0.2222222222222222,
              "#7201a8"
             ],
             [
              0.3333333333333333,
              "#9c179e"
             ],
             [
              0.4444444444444444,
              "#bd3786"
             ],
             [
              0.5555555555555556,
              "#d8576b"
             ],
             [
              0.6666666666666666,
              "#ed7953"
             ],
             [
              0.7777777777777778,
              "#fb9f3a"
             ],
             [
              0.8888888888888888,
              "#fdca26"
             ],
             [
              1,
              "#f0f921"
             ]
            ],
            "type": "heatmapgl"
           }
          ],
          "histogram": [
           {
            "marker": {
             "pattern": {
              "fillmode": "overlay",
              "size": 10,
              "solidity": 0.2
             }
            },
            "type": "histogram"
           }
          ],
          "histogram2d": [
           {
            "colorbar": {
             "outlinewidth": 0,
             "ticks": ""
            },
            "colorscale": [
             [
              0,
              "#0d0887"
             ],
             [
              0.1111111111111111,
              "#46039f"
             ],
             [
              0.2222222222222222,
              "#7201a8"
             ],
             [
              0.3333333333333333,
              "#9c179e"
             ],
             [
              0.4444444444444444,
              "#bd3786"
             ],
             [
              0.5555555555555556,
              "#d8576b"
             ],
             [
              0.6666666666666666,
              "#ed7953"
             ],
             [
              0.7777777777777778,
              "#fb9f3a"
             ],
             [
              0.8888888888888888,
              "#fdca26"
             ],
             [
              1,
              "#f0f921"
             ]
            ],
            "type": "histogram2d"
           }
          ],
          "histogram2dcontour": [
           {
            "colorbar": {
             "outlinewidth": 0,
             "ticks": ""
            },
            "colorscale": [
             [
              0,
              "#0d0887"
             ],
             [
              0.1111111111111111,
              "#46039f"
             ],
             [
              0.2222222222222222,
              "#7201a8"
             ],
             [
              0.3333333333333333,
              "#9c179e"
             ],
             [
              0.4444444444444444,
              "#bd3786"
             ],
             [
              0.5555555555555556,
              "#d8576b"
             ],
             [
              0.6666666666666666,
              "#ed7953"
             ],
             [
              0.7777777777777778,
              "#fb9f3a"
             ],
             [
              0.8888888888888888,
              "#fdca26"
             ],
             [
              1,
              "#f0f921"
             ]
            ],
            "type": "histogram2dcontour"
           }
          ],
          "mesh3d": [
           {
            "colorbar": {
             "outlinewidth": 0,
             "ticks": ""
            },
            "type": "mesh3d"
           }
          ],
          "parcoords": [
           {
            "line": {
             "colorbar": {
              "outlinewidth": 0,
              "ticks": ""
             }
            },
            "type": "parcoords"
           }
          ],
          "pie": [
           {
            "automargin": true,
            "type": "pie"
           }
          ],
          "scatter": [
           {
            "fillpattern": {
             "fillmode": "overlay",
             "size": 10,
             "solidity": 0.2
            },
            "type": "scatter"
           }
          ],
          "scatter3d": [
           {
            "line": {
             "colorbar": {
              "outlinewidth": 0,
              "ticks": ""
             }
            },
            "marker": {
             "colorbar": {
              "outlinewidth": 0,
              "ticks": ""
             }
            },
            "type": "scatter3d"
           }
          ],
          "scattercarpet": [
           {
            "marker": {
             "colorbar": {
              "outlinewidth": 0,
              "ticks": ""
             }
            },
            "type": "scattercarpet"
           }
          ],
          "scattergeo": [
           {
            "marker": {
             "colorbar": {
              "outlinewidth": 0,
              "ticks": ""
             }
            },
            "type": "scattergeo"
           }
          ],
          "scattergl": [
           {
            "marker": {
             "colorbar": {
              "outlinewidth": 0,
              "ticks": ""
             }
            },
            "type": "scattergl"
           }
          ],
          "scattermapbox": [
           {
            "marker": {
             "colorbar": {
              "outlinewidth": 0,
              "ticks": ""
             }
            },
            "type": "scattermapbox"
           }
          ],
          "scatterpolar": [
           {
            "marker": {
             "colorbar": {
              "outlinewidth": 0,
              "ticks": ""
             }
            },
            "type": "scatterpolar"
           }
          ],
          "scatterpolargl": [
           {
            "marker": {
             "colorbar": {
              "outlinewidth": 0,
              "ticks": ""
             }
            },
            "type": "scatterpolargl"
           }
          ],
          "scatterternary": [
           {
            "marker": {
             "colorbar": {
              "outlinewidth": 0,
              "ticks": ""
             }
            },
            "type": "scatterternary"
           }
          ],
          "surface": [
           {
            "colorbar": {
             "outlinewidth": 0,
             "ticks": ""
            },
            "colorscale": [
             [
              0,
              "#0d0887"
             ],
             [
              0.1111111111111111,
              "#46039f"
             ],
             [
              0.2222222222222222,
              "#7201a8"
             ],
             [
              0.3333333333333333,
              "#9c179e"
             ],
             [
              0.4444444444444444,
              "#bd3786"
             ],
             [
              0.5555555555555556,
              "#d8576b"
             ],
             [
              0.6666666666666666,
              "#ed7953"
             ],
             [
              0.7777777777777778,
              "#fb9f3a"
             ],
             [
              0.8888888888888888,
              "#fdca26"
             ],
             [
              1,
              "#f0f921"
             ]
            ],
            "type": "surface"
           }
          ],
          "table": [
           {
            "cells": {
             "fill": {
              "color": "#EBF0F8"
             },
             "line": {
              "color": "white"
             }
            },
            "header": {
             "fill": {
              "color": "#C8D4E3"
             },
             "line": {
              "color": "white"
             }
            },
            "type": "table"
           }
          ]
         },
         "layout": {
          "annotationdefaults": {
           "arrowcolor": "#2a3f5f",
           "arrowhead": 0,
           "arrowwidth": 1
          },
          "autotypenumbers": "strict",
          "coloraxis": {
           "colorbar": {
            "outlinewidth": 0,
            "ticks": ""
           }
          },
          "colorscale": {
           "diverging": [
            [
             0,
             "#8e0152"
            ],
            [
             0.1,
             "#c51b7d"
            ],
            [
             0.2,
             "#de77ae"
            ],
            [
             0.3,
             "#f1b6da"
            ],
            [
             0.4,
             "#fde0ef"
            ],
            [
             0.5,
             "#f7f7f7"
            ],
            [
             0.6,
             "#e6f5d0"
            ],
            [
             0.7,
             "#b8e186"
            ],
            [
             0.8,
             "#7fbc41"
            ],
            [
             0.9,
             "#4d9221"
            ],
            [
             1,
             "#276419"
            ]
           ],
           "sequential": [
            [
             0,
             "#0d0887"
            ],
            [
             0.1111111111111111,
             "#46039f"
            ],
            [
             0.2222222222222222,
             "#7201a8"
            ],
            [
             0.3333333333333333,
             "#9c179e"
            ],
            [
             0.4444444444444444,
             "#bd3786"
            ],
            [
             0.5555555555555556,
             "#d8576b"
            ],
            [
             0.6666666666666666,
             "#ed7953"
            ],
            [
             0.7777777777777778,
             "#fb9f3a"
            ],
            [
             0.8888888888888888,
             "#fdca26"
            ],
            [
             1,
             "#f0f921"
            ]
           ],
           "sequentialminus": [
            [
             0,
             "#0d0887"
            ],
            [
             0.1111111111111111,
             "#46039f"
            ],
            [
             0.2222222222222222,
             "#7201a8"
            ],
            [
             0.3333333333333333,
             "#9c179e"
            ],
            [
             0.4444444444444444,
             "#bd3786"
            ],
            [
             0.5555555555555556,
             "#d8576b"
            ],
            [
             0.6666666666666666,
             "#ed7953"
            ],
            [
             0.7777777777777778,
             "#fb9f3a"
            ],
            [
             0.8888888888888888,
             "#fdca26"
            ],
            [
             1,
             "#f0f921"
            ]
           ]
          },
          "colorway": [
           "#636efa",
           "#EF553B",
           "#00cc96",
           "#ab63fa",
           "#FFA15A",
           "#19d3f3",
           "#FF6692",
           "#B6E880",
           "#FF97FF",
           "#FECB52"
          ],
          "font": {
           "color": "#2a3f5f"
          },
          "geo": {
           "bgcolor": "white",
           "lakecolor": "white",
           "landcolor": "white",
           "showlakes": true,
           "showland": true,
           "subunitcolor": "#C8D4E3"
          },
          "hoverlabel": {
           "align": "left"
          },
          "hovermode": "closest",
          "mapbox": {
           "style": "light"
          },
          "paper_bgcolor": "white",
          "plot_bgcolor": "white",
          "polar": {
           "angularaxis": {
            "gridcolor": "#EBF0F8",
            "linecolor": "#EBF0F8",
            "ticks": ""
           },
           "bgcolor": "white",
           "radialaxis": {
            "gridcolor": "#EBF0F8",
            "linecolor": "#EBF0F8",
            "ticks": ""
           }
          },
          "scene": {
           "xaxis": {
            "backgroundcolor": "white",
            "gridcolor": "#DFE8F3",
            "gridwidth": 2,
            "linecolor": "#EBF0F8",
            "showbackground": true,
            "ticks": "",
            "zerolinecolor": "#EBF0F8"
           },
           "yaxis": {
            "backgroundcolor": "white",
            "gridcolor": "#DFE8F3",
            "gridwidth": 2,
            "linecolor": "#EBF0F8",
            "showbackground": true,
            "ticks": "",
            "zerolinecolor": "#EBF0F8"
           },
           "zaxis": {
            "backgroundcolor": "white",
            "gridcolor": "#DFE8F3",
            "gridwidth": 2,
            "linecolor": "#EBF0F8",
            "showbackground": true,
            "ticks": "",
            "zerolinecolor": "#EBF0F8"
           }
          },
          "shapedefaults": {
           "line": {
            "color": "#2a3f5f"
           }
          },
          "ternary": {
           "aaxis": {
            "gridcolor": "#DFE8F3",
            "linecolor": "#A2B1C6",
            "ticks": ""
           },
           "baxis": {
            "gridcolor": "#DFE8F3",
            "linecolor": "#A2B1C6",
            "ticks": ""
           },
           "bgcolor": "white",
           "caxis": {
            "gridcolor": "#DFE8F3",
            "linecolor": "#A2B1C6",
            "ticks": ""
           }
          },
          "title": {
           "x": 0.05
          },
          "xaxis": {
           "automargin": true,
           "gridcolor": "#EBF0F8",
           "linecolor": "#EBF0F8",
           "ticks": "",
           "title": {
            "standoff": 15
           },
           "zerolinecolor": "#EBF0F8",
           "zerolinewidth": 2
          },
          "yaxis": {
           "automargin": true,
           "gridcolor": "#EBF0F8",
           "linecolor": "#EBF0F8",
           "ticks": "",
           "title": {
            "standoff": 15
           },
           "zerolinecolor": "#EBF0F8",
           "zerolinewidth": 2
          }
         }
        },
        "title": {
         "text": "Burn Down Chart: Verbleibende ECTS bis Abschluss"
        },
        "xaxis": {
         "range": [
          "2023-04-01T00:00:00",
          "2026-03-31T00:00:00"
         ],
         "title": {
          "text": "Datum"
         },
         "type": "date"
        },
        "yaxis": {
         "range": [
          0,
          180
         ],
         "title": {
          "text": "Verbleibende ECTS"
         },
         "type": "linear"
        }
       }
      },
      "image/png": "[encoded data removed]",
      "text/html": [
       "<div>                            <div id=\"6b7f10c1-3443-494c-b37c-4c47631a364c\" class=\"plotly-graph-div\" style=\"height:500px; width:100%;\"></div>            <script type=\"text/javascript\">                require([\"plotly\"], function(Plotly) {                    window.PLOTLYENV=window.PLOTLYENV || {};                                    if (document.getElementById(\"6b7f10c1-3443-494c-b37c-4c47631a364c\")) {                    Plotly.newPlot(                        \"6b7f10c1-3443-494c-b37c-4c47631a364c\",                        [{\"line\":{\"color\":\"black\",\"width\":2},\"marker\":{\"size\":5},\"mode\":\"lines+markers\",\"name\":\"Plan\",\"x\":[\"2023-04-30T00:00:00\",\"2023-05-31T00:00:00\",\"2023-06-30T00:00:00\",\"2023-07-31T00:00:00\",\"2023-08-31T00:00:00\",\"2023-09-30T00:00:00\",\"2023-10-31T00:00:00\",\"2023-11-30T00:00:00\",\"2023-12-31T00:00:00\",\"2024-01-31T00:00:00\",\"2024-02-29T00:00:00\",\"2024-03-31T00:00:00\",\"2024-04-30T00:00:00\",\"2024-05-31T00:00:00\",\"2024-06-30T00:00:00\",\"2024-07-31T00:00:00\",\"2024-08-31T00:00:00\",\"2024-09-30T00:00:00\",\"2024-10-31T00:00:00\",\"2024-11-30T00:00:00\",\"2024-12-31T00:00:00\",\"2025-01-31T00:00:00\",\"2025-02-28T00:00:00\",\"2025-03-31T00:00:00\",\"2025-04-30T00:00:00\",\"2025-05-31T00:00:00\",\"2025-06-30T00:00:00\",\"2025-07-31T00:00:00\",\"2025-08-31T00:00:00\",\"2025-09-30T00:00:00\",\"2025-10-31T00:00:00\",\"2025-11-30T00:00:00\",\"2025-12-31T00:00:00\",\"2026-01-31T00:00:00\",\"2026-02-28T00:00:00\",\"2026-03-31T00:00:00\"],\"y\":[180,175,170,165,160,155,150,145,140,135,130,125,120,115,110,105,100,95,90,85,80,75,70,65,60,55,50,45,40,35,30,25,20,15,10,5],\"type\":\"scatter\"},{\"line\":{\"color\":\"teal\",\"width\":3},\"marker\":{\"size\":7},\"mode\":\"lines+markers\",\"name\":\"Ist\",\"x\":[\"2023-04-01T00:00:00\",\"2023-04-30T00:00:00\",\"2023-05-27T00:00:00\",\"2023-06-25T00:00:00\",\"2023-08-03T00:00:00\",\"2023-09-07T00:00:00\",\"2023-09-30T00:00:00\",\"2023-11-07T00:00:00\"],\"y\":[180,175,170,165,160,155,150,145],\"type\":\"scatter\"}],                        {\"template\":{\"data\":{\"barpolar\":[{\"marker\":{\"line\":{\"color\":\"white\",\"width\":0.5},\"pattern\":{\"fillmode\":\"overlay\",\"size\":10,\"solidity\":0.2}},\"type\":\"barpolar\"}],\"bar\":[{\"error_x\":{\"color\":\"#2a3f5f\"},\"error_y\":{\"color\":\"#2a3f5f\"},\"marker\":{\"line\":{\"color\":\"white\",\"width\":0.5},\"pattern\":{\"fillmode\":\"overlay\",\"size\":10,\"solidity\":0.2}},\"type\":\"bar\"}],\"carpet\":[{\"aaxis\":{\"endlinecolor\":\"#2a3f5f\",\"gridcolor\":\"#C8D4E3\",\"linecolor\":\"#C8D4E3\",\"minorgridcolor\":\"#C8D4E3\",\"startlinecolor\":\"#2a3f5f\"},\"baxis\":{\"endlinecolor\":\"#2a3f5f\",\"gridcolor\":\"#C8D4E3\",\"linecolor\":\"#C8D4E3\",\"minorgridcolor\":\"#C8D4E3\",\"startlinecolor\":\"#2a3f5f\"},\"type\":\"carpet\"}],\"choropleth\":[{\"colorbar\":{\"outlinewidth\":0,\"ticks\":\"\"},\"type\":\"choropleth\"}],\"contourcarpet\":[{\"colorbar\":{\"outlinewidth\":0,\"ticks\":\"\"},\"type\":\"contourcarpet\"}],\"contour\":[{\"colorbar\":{\"outlinewidth\":0,\"ticks\":\"\"},\"colorscale\":[[0.0,\"#0d0887\"],[0.1111111111111111,\"#46039f\"],[0.2222222222222222,\"#7201a8\"],[0.3333333333333333,\"#9c179e\"],[0.4444444444444444,\"#bd3786\"],[0.5555555555555556,\"#d8576b\"],[0.6666666666666666,\"#ed7953\"],[0.7777777777777778,\"#fb9f3a\"],[0.8888888888888888,\"#fdca26\"],[1.0,\"#f0f921\"]],\"type\":\"contour\"}],\"heatmapgl\":[{\"colorbar\":{\"outlinewidth\":0,\"ticks\":\"\"},\"colorscale\":[[0.0,\"#0d0887\"],[0.1111111111111111,\"#46039f\"],[0.2222222222222222,\"#7201a8\"],[0.3333333333333333,\"#9c179e\"],[0.4444444444444444,\"#bd3786\"],[0.5555555555555556,\"#d8576b\"],[0.6666666666666666,\"#ed7953\"],[0.7777777777777778,\"#fb9f3a\"],[0.8888888888888888,\"#fdca26\"],[1.0,\"#f0f921\"]],\"type\":\"heatmapgl\"}],\"heatmap\":[{\"colorbar\":{\"outlinewidth\":0,\"ticks\":\"\"},\"colorscale\":[[0.0,\"#0d0887\"],[0.1111111111111111,\"#46039f\"],[0.2222222222222222,\"#7201a8\"],[0.3333333333333333,\"#9c179e\"],[0.4444444444444444,\"#bd3786\"],[0.5555555555555556,\"#d8576b\"],[0.6666666666666666,\"#ed7953\"],[0.7777777777777778,\"#fb9f3a\"],[0.8888888888888888,\"#fdca26\"],[1.0,\"#f0f921\"]],\"type\":\"heatmap\"}],\"histogram2dcontour\":[{\"colorbar\":{\"outlinewidth\":0,\"ticks\":\"\"},\"colorscale\":[[0.0,\"#0d0887\"],[0.1111111111111111,\"#46039f\"],[0.2222222222222222,\"#7201a8\"],[0.3333333333333333,\"#9c179e\"],[0.4444444444444444,\"#bd3786\"],[0.5555555555555556,\"#d8576b\"],[0.6666666666666666,\"#ed7953\"],[0.7777777777777778,\"#fb9f3a\"],[0.8888888888888888,\"#fdca26\"],[1.0,\"#f0f921\"]],\"type\":\"histogram2dcontour\"}],\"histogram2d\":[{\"colorbar\":{\"outlinewidth\":0,\"ticks\":\"\"},\"colorscale\":[[0.0,\"#0d0887\"],[0.1111111111111111,\"#46039f\"],[0.2222222222222222,\"#7201a8\"],[0.3333333333333333,\"#9c179e\"],[0.4444444444444444,\"#bd3786\"],[0.5555555555555556,\"#d8576b\"],[0.6666666666666666,\"#ed7953\"],[0.7777777777777778,\"#fb9f3a\"],[0.8888888888888888,\"#fdca26\"],[1.0,\"#f0f921\"]],\"type\":\"histogram2d\"}],\"histogram\":[{\"marker\":{\"pattern\":{\"fillmode\":\"overlay\",\"size\":10,\"solidity\":0.2}},\"type\":\"histogram\"}],\"mesh3d\":[{\"colorbar\":{\"outlinewidth\":0,\"ticks\":\"\"},\"type\":\"mesh3d\"}],\"parcoords\":[{\"line\":{\"colorbar\":{\"outlinewidth\":0,\"ticks\":\"\"}},\"type\":\"parcoords\"}],\"pie\":[{\"automargin\":true,\"type\":\"pie\"}],\"scatter3d\":[{\"line\":{\"colorbar\":{\"outlinewidth\":0,\"ticks\":\"\"}},\"marker\":{\"colorbar\":{\"outlinewidth\":0,\"ticks\":\"\"}},\"type\":\"scatter3d\"}],\"scattercarpet\":[{\"marker\":{\"colorbar\":{\"outlinewidth\":0,\"ticks\":\"\"}},\"type\":\"scattercarpet\"}],\"scattergeo\":[{\"marker\":{\"colorbar\":{\"outlinewidth\":0,\"ticks\":\"\"}},\"type\":\"scattergeo\"}],\"scattergl\":[{\"marker\":{\"colorbar\":{\"outlinewidth\":0,\"ticks\":\"\"}},\"type\":\"scattergl\"}],\"scattermapbox\":[{\"marker\":{\"colorbar\":{\"outlinewidth\":0,\"ticks\":\"\"}},\"type\":\"scattermapbox\"}],\"scatterpolargl\":[{\"marker\":{\"colorbar\":{\"outlinewidth\":0,\"ticks\":\"\"}},\"type\":\"scatterpolargl\"}],\"scatterpolar\":[{\"marker\":{\"colorbar\":{\"outlinewidth\":0,\"ticks\":\"\"}},\"type\":\"scatterpolar\"}],\"scatter\":[{\"fillpattern\":{\"fillmode\":\"overlay\",\"size\":10,\"solidity\":0.2},\"type\":\"scatter\"}],\"scatterternary\":[{\"marker\":{\"colorbar\":{\"outlinewidth\":0,\"ticks\":\"\"}},\"type\":\"scatterternary\"}],\"surface\":[{\"colorbar\":{\"outlinewidth\":0,\"ticks\":\"\"},\"colorscale\":[[0.0,\"#0d0887\"],[0.1111111111111111,\"#46039f\"],[0.2222222222222222,\"#7201a8\"],[0.3333333333333333,\"#9c179e\"],[0.4444444444444444,\"#bd3786\"],[0.5555555555555556,\"#d8576b\"],[0.6666666666666666,\"#ed7953\"],[0.7777777777777778,\"#fb9f3a\"],[0.8888888888888888,\"#fdca26\"],[1.0,\"#f0f921\"]],\"type\":\"surface\"}],\"table\":[{\"cells\":{\"fill\":{\"color\":\"#EBF0F8\"},\"line\":{\"color\":\"white\"}},\"header\":{\"fill\":{\"color\":\"#C8D4E3\"},\"line\":{\"color\":\"white\"}},\"type\":\"table\"}]},\"layout\":{\"annotationdefaults\":{\"arrowcolor\":\"#2a3f5f\",\"arrowhead\":0,\"arrowwidth\":1},\"autotypenumbers\":\"strict\",\"coloraxis\":{\"colorbar\":{\"outlinewidth\":0,\"ticks\":\"\"}},\"colorscale\":{\"diverging\":[[0,\"#8e0152\"],[0.1,\"#c51b7d\"],[0.2,\"#de77ae\"],[0.3,\"#f1b6da\"],[0.4,\"#fde0ef\"],[0.5,\"#f7f7f7\"],[0.6,\"#e6f5d0\"],[0.7,\"#b8e186\"],[0.8,\"#7fbc41\"],[0.9,\"#4d9221\"],[1,\"#276419\"]],\"sequential\":[[0.0,\"#0d0887\"],[0.1111111111111111,\"#46039f\"],[0.2222222222222222,\"#7201a8\"],[0.3333333333333333,\"#9c179e\"],[0.4444444444444444,\"#bd3786\"],[0.5555555555555556,\"#d8576b\"],[0.6666666666666666,\"#ed7953\"],[0.7777777777777778,\"#fb9f3a\"],[0.8888888888888888,\"#fdca26\"],[1.0,\"#f0f921\"]],\"sequentialminus\":[[0.0,\"#0d0887\"],[0.1111111111111111,\"#46039f\"],[0.2222222222222222,\"#7201a8\"],[0.3333333333333333,\"#9c179e\"],[0.4444444444444444,\"#bd3786\"],[0.5555555555555556,\"#d8576b\"],[0.6666666666666666,\"#ed7953\"],[0.7777777777777778,\"#fb9f3a\"],[0.8888888888888888,\"#fdca26\"],[1.0,\"#f0f921\"]]},\"colorway\":[\"#636efa\",\"#EF553B\",\"#00cc96\",\"#ab63fa\",\"#FFA15A\",\"#19d3f3\",\"#FF6692\",\"#B6E880\",\"#FF97FF\",\"#FECB52\"],\"font\":{\"color\":\"#2a3f5f\"},\"geo\":{\"bgcolor\":\"white\",\"lakecolor\":\"white\",\"landcolor\":\"white\",\"showlakes\":true,\"showland\":true,\"subunitcolor\":\"#C8D4E3\"},\"hoverlabel\":{\"align\":\"left\"},\"hovermode\":\"closest\",\"mapbox\":{\"style\":\"light\"},\"paper_bgcolor\":\"white\",\"plot_bgcolor\":\"white\",\"polar\":{\"angularaxis\":{\"gridcolor\":\"#EBF0F8\",\"linecolor\":\"#EBF0F8\",\"ticks\":\"\"},\"bgcolor\":\"white\",\"radialaxis\":{\"gridcolor\":\"#EBF0F8\",\"linecolor\":\"#EBF0F8\",\"ticks\":\"\"}},\"scene\":{\"xaxis\":{\"backgroundcolor\":\"white\",\"gridcolor\":\"#DFE8F3\",\"gridwidth\":2,\"linecolor\":\"#EBF0F8\",\"showbackground\":true,\"ticks\":\"\",\"zerolinecolor\":\"#EBF0F8\"},\"yaxis\":{\"backgroundcolor\":\"white\",\"gridcolor\":\"#DFE8F3\",\"gridwidth\":2,\"linecolor\":\"#EBF0F8\",\"showbackground\":true,\"ticks\":\"\",\"zerolinecolor\":\"#EBF0F8\"},\"zaxis\":{\"backgroundcolor\":\"white\",\"gridcolor\":\"#DFE8F3\",\"gridwidth\":2,\"linecolor\":\"#EBF0F8\",\"showbackground\":true,\"ticks\":\"\",\"zerolinecolor\":\"#EBF0F8\"}},\"shapedefaults\":{\"line\":{\"color\":\"#2a3f5f\"}},\"ternary\":{\"aaxis\":{\"gridcolor\":\"#DFE8F3\",\"linecolor\":\"#A2B1C6\",\"ticks\":\"\"},\"baxis\":{\"gridcolor\":\"#DFE8F3\",\"linecolor\":\"#A2B1C6\",\"ticks\":\"\"},\"bgcolor\":\"white\",\"caxis\":{\"gridcolor\":\"#DFE8F3\",\"linecolor\":\"#A2B1C6\",\"ticks\":\"\"}},\"title\":{\"x\":0.05},\"xaxis\":{\"automargin\":true,\"gridcolor\":\"#EBF0F8\",\"linecolor\":\"#EBF0F8\",\"ticks\":\"\",\"title\":{\"standoff\":15},\"zerolinecolor\":\"#EBF0F8\",\"zerolinewidth\":2},\"yaxis\":{\"automargin\":true,\"gridcolor\":\"#EBF0F8\",\"linecolor\":\"#EBF0F8\",\"ticks\":\"\",\"title\":{\"standoff\":15},\"zerolinecolor\":\"#EBF0F8\",\"zerolinewidth\":2}}},\"xaxis\":{\"title\":{\"text\":\"Datum\"},\"range\":[\"2023-04-01T00:00:00\",\"2026-03-31T00:00:00\"]},\"yaxis\":{\"title\":{\"text\":\"Verbleibende ECTS\"},\"range\":[0,180]},\"margin\":{\"l\":40,\"r\":20,\"t\":60,\"b\":40},\"title\":{\"text\":\"Burn Down Chart: Verbleibende ECTS bis Abschluss\"},\"hovermode\":\"x unified\",\"height\":500},                        {\"responsive\": true}                    ).then(function(){\n",
       "                            \n",
       "var gd = document.getElementById('6b7f10c1-3443-494c-b37c-4c47631a364c');\n",
       "var x = new MutationObserver(function (mutations, observer) {{\n",
       "        var display = window.getComputedStyle(gd).display;\n",
       "        if (!display || display === 'none') {{\n",
       "            console.log([gd, 'removed!']);\n",
       "            Plotly.purge(gd);\n",
       "            observer.disconnect();\n",
       "        }}\n",
       "}});\n",
       "\n",
       "// Listen for the removal of the full notebook cells\n",
       "var notebookContainer = gd.closest('#notebook-container');\n",
       "if (notebookContainer) {{\n",
       "    x.observe(notebookContainer, {childList: true});\n",
       "}}\n",
       "\n",
       "// Listen for the clearing of the current output cell\n",
       "var outputEl = gd.closest('.output');\n",
       "if (outputEl) {{\n",
       "    x.observe(outputEl, {childList: true});\n",
       "}}\n",
       "\n",
       "                        })                };                });            </script>        </div>"
      ]
     },
     "metadata": {},
     "output_type": "display_data"
    }
   ],
   "source": [
    "import sqlite3\n",
    "import pandas as pd\n",
    "import plotly.graph_objects as go\n",
    "\n",
    "# --- DB lesen ---\n",
    "con = sqlite3.connect(r\"C:/Users/kaja/Coding/studium_dashboard/studium.db\")\n",
    "df = pd.read_sql_query(\"\"\"\n",
    "    SELECT k.ects, b.abgabe_datum\n",
    "    FROM kurs k\n",
    "    JOIN bearbeitung b ON k.id = b.kurs_id\n",
    "    WHERE b.status = 'abgeschlossen'\n",
    "    ORDER BY b.abgabe_datum\n",
    "\"\"\", con)\n",
    "con.close()\n",
    "\n",
    "# --- Konstanten ---\n",
    "GESAMT_ECTS = 180\n",
    "START_DATUM = pd.to_datetime(\"2023-04-01\")\n",
    "ZIEL_DATUM  = pd.to_datetime(\"2026-03-31\")\n",
    "\n",
    "# --- IST-Daten vorbereiten (genau 1 Punkt pro Abschluss) ---\n",
    "df[\"abgabe_datum\"]     = pd.to_datetime(df[\"abgabe_datum\"])\n",
    "df[\"kumulierte_ects\"]  = df[\"ects\"].cumsum()\n",
    "df[\"verbleibende_ects\"] = GESAMT_ECTS - df[\"kumulierte_ects\"]\n",
    "\n",
    "# Startpunkt (Studienstart mit vollen ECTS) hinzufügen\n",
    "ist_daten_x = [START_DATUM] + df[\"abgabe_datum\"].tolist()\n",
    "ist_daten_y = [GESAMT_ECTS] + df[\"verbleibende_ects\"].tolist()\n",
    "\n",
    "# --- PLAN (monatlich 5 ECTS weniger) ---\n",
    "zeitachse_plan = pd.date_range(start=START_DATUM, end=ZIEL_DATUM, freq=\"M\")\n",
    "plan_y = [max(GESAMT_ECTS - i*5, 0) for i in range(len(zeitachse_plan))]\n",
    "\n",
    "# --- Plot ---\n",
    "fig = go.Figure()\n",
    "\n",
    "# Plan (schwarz)\n",
    "fig.add_trace(go.Scatter(\n",
    "    x=zeitachse_plan, y=plan_y,\n",
    "    name=\"Plan\",\n",
    "    mode=\"lines+markers\",\n",
    "    line=dict(color=\"black\", width=2),\n",
    "    marker=dict(size=5)\n",
    "))\n",
    "\n",
    "# Ist (türkis)\n",
    "fig.add_trace(go.Scatter(\n",
    "    x=ist_daten_x, y=ist_daten_y,\n",
    "    name=\"Ist\",\n",
    "    mode=\"lines+markers\",\n",
    "    line=dict(color=\"teal\", width=3),\n",
    "    marker=dict(size=7)\n",
    "))\n",
    "\n",
    "# Layout\n",
    "fig.update_layout(\n",
    "    title=\"Burn Down Chart: Verbleibende ECTS bis Abschluss\",\n",
    "    xaxis_title=\"Datum\",\n",
    "    yaxis_title=\"Verbleibende ECTS\",\n",
    "    template=\"plotly_white\",\n",
    "    hovermode=\"x unified\",\n",
    "    xaxis=dict(range=[START_DATUM, ZIEL_DATUM]),\n",
    "    yaxis=dict(range=[0, GESAMT_ECTS]),\n",
    "    height=500,\n",
    "    margin=dict(l=40, r=20, t=60, b=40)\n",
    ")\n",
    "\n",
    "fig.show()\n"
   ]
  },
  {
   "cell_type": "markdown",
   "id": "59ca3f38-c354-4634-b245-1338051a64ad",
   "metadata": {
    "jp-MarkdownHeadingCollapsed": true
   },
   "source": [
    "### Gantt Chart: Kursplan"
   ]
  },
  {
   "cell_type": "code",
   "execution_count": 28,
   "id": "716d0193-a57b-43c9-9cb2-095977acc057",
   "metadata": {},
   "outputs": [
    {
     "data": {
      "application/vnd.plotly.v1+json": {
       "config": {
        "plotlyServerURL": "https://plot.ly"
       },
       "data": [
        {
         "hovertemplate": "Programmierung<br>2023-04-01 – 2023-04-30<extra></extra>",
         "legendgroup": "Plan",
         "line": {
          "color": "#bfeeea",
          "width": 30
         },
         "mode": "lines",
         "name": "Plan",
         "showlegend": false,
         "type": "scatter",
         "x": [
          "2023-04-01T00:00:00",
          "2023-04-30T00:00:00"
         ],
         "y": [
          "Programmierung",
          "Programmierung"
         ]
        },
        {
         "hovertemplate": "Mathematik<br>2023-05-01 – 2023-05-31<extra></extra>",
         "legendgroup": "Plan",
         "line": {
          "color": "#bfeeea",
          "width": 30
         },
         "mode": "lines",
         "name": "Plan",
         "showlegend": false,
         "type": "scatter",
         "x": [
          "2023-05-01T00:00:00",
          "2023-05-31T00:00:00"
         ],
         "y": [
          "Mathematik",
          "Mathematik"
         ]
        },
        {
         "hovertemplate": "Datenbanken<br>2023-06-01 – 2023-06-30<extra></extra>",
         "legendgroup": "Plan",
         "line": {
          "color": "#bfeeea",
          "width": 30
         },
         "mode": "lines",
         "name": "Plan",
         "showlegend": false,
         "type": "scatter",
         "x": [
          "2023-06-01T00:00:00",
          "2023-06-30T00:00:00"
         ],
         "y": [
          "Datenbanken",
          "Datenbanken"
         ]
        },
        {
         "hovertemplate": "Grundlagen der<br>2023-07-01 – 2023-07-31<extra></extra>",
         "legendgroup": "Plan",
         "line": {
          "color": "#bfeeea",
          "width": 30
         },
         "mode": "lines",
         "name": "Plan",
         "showlegend": false,
         "type": "scatter",
         "x": [
          "2023-07-01T00:00:00",
          "2023-07-31T00:00:00"
         ],
         "y": [
          "Grundlagen der",
          "Grundlagen der"
         ]
        },
        {
         "hovertemplate": "Requirements Engineering<br>2023-08-01 – 2023-08-31<extra></extra>",
         "legendgroup": "Plan",
         "line": {
          "color": "#bfeeea",
          "width": 30
         },
         "mode": "lines",
         "name": "Plan",
         "showlegend": false,
         "type": "scatter",
         "x": [
          "2023-08-01T00:00:00",
          "2023-08-31T00:00:00"
         ],
         "y": [
          "Requirements Engineering",
          "Requirements Engineering"
         ]
        },
        {
         "hovertemplate": "Spezifikation<br>2023-09-01 – 2023-09-30<extra></extra>",
         "legendgroup": "Plan",
         "line": {
          "color": "#bfeeea",
          "width": 30
         },
         "mode": "lines",
         "name": "Plan",
         "showlegend": false,
         "type": "scatter",
         "x": [
          "2023-09-01T00:00:00",
          "2023-09-30T00:00:00"
         ],
         "y": [
          "Spezifikation",
          "Spezifikation"
         ]
        },
        {
         "hovertemplate": "Einführung in<br>2023-10-01 – 2023-10-31<extra></extra>",
         "legendgroup": "Plan",
         "line": {
          "color": "#bfeeea",
          "width": 30
         },
         "mode": "lines",
         "name": "Plan",
         "showlegend": false,
         "type": "scatter",
         "x": [
          "2023-10-01T00:00:00",
          "2023-10-31T00:00:00"
         ],
         "y": [
          "Einführung in",
          "Einführung in"
         ]
        },
        {
         "hovertemplate": "Programmierung<br>2023-04-01 – 2023-04-30<extra></extra>",
         "legendgroup": "Ist",
         "line": {
          "color": "#18a999",
          "width": 30
         },
         "mode": "lines",
         "name": "Ist",
         "showlegend": false,
         "type": "scatter",
         "x": [
          "2023-04-01T00:00:00",
          "2023-04-30T00:00:00"
         ],
         "y": [
          "Programmierung",
          "Programmierung"
         ]
        },
        {
         "hovertemplate": "Mathematik<br>2023-05-01 – 2023-05-27<extra></extra>",
         "legendgroup": "Ist",
         "line": {
          "color": "#18a999",
          "width": 30
         },
         "mode": "lines",
         "name": "Ist",
         "showlegend": false,
         "type": "scatter",
         "x": [
          "2023-05-01T00:00:00",
          "2023-05-27T00:00:00"
         ],
         "y": [
          "Mathematik",
          "Mathematik"
         ]
        },
        {
         "hovertemplate": "Datenbanken<br>2023-05-27 – 2023-06-25<extra></extra>",
         "legendgroup": "Ist",
         "line": {
          "color": "#18a999",
          "width": 30
         },
         "mode": "lines",
         "name": "Ist",
         "showlegend": false,
         "type": "scatter",
         "x": [
          "2023-05-27T00:00:00",
          "2023-06-25T00:00:00"
         ],
         "y": [
          "Datenbanken",
          "Datenbanken"
         ]
        },
        {
         "hovertemplate": "Grundlagen der<br>2023-06-30 – 2023-08-03<extra></extra>",
         "legendgroup": "Ist",
         "line": {
          "color": "#18a999",
          "width": 30
         },
         "mode": "lines",
         "name": "Ist",
         "showlegend": false,
         "type": "scatter",
         "x": [
          "2023-06-30T00:00:00",
          "2023-08-03T00:00:00"
         ],
         "y": [
          "Grundlagen der",
          "Grundlagen der"
         ]
        },
        {
         "hovertemplate": "Requirements Engineering<br>2023-08-03 – 2023-09-07<extra></extra>",
         "legendgroup": "Ist",
         "line": {
          "color": "#18a999",
          "width": 30
         },
         "mode": "lines",
         "name": "Ist",
         "showlegend": false,
         "type": "scatter",
         "x": [
          "2023-08-03T00:00:00",
          "2023-09-07T00:00:00"
         ],
         "y": [
          "Requirements Engineering",
          "Requirements Engineering"
         ]
        },
        {
         "hovertemplate": "Spezifikation<br>2023-09-08 – 2023-09-30<extra></extra>",
         "legendgroup": "Ist",
         "line": {
          "color": "#18a999",
          "width": 30
         },
         "mode": "lines",
         "name": "Ist",
         "showlegend": false,
         "type": "scatter",
         "x": [
          "2023-09-08T00:00:00",
          "2023-09-30T00:00:00"
         ],
         "y": [
          "Spezifikation",
          "Spezifikation"
         ]
        },
        {
         "hovertemplate": "Einführung in<br>2023-10-02 – 2023-11-07<extra></extra>",
         "legendgroup": "Ist",
         "line": {
          "color": "#18a999",
          "width": 30
         },
         "mode": "lines",
         "name": "Ist",
         "showlegend": false,
         "type": "scatter",
         "x": [
          "2023-10-02T00:00:00",
          "2023-11-07T00:00:00"
         ],
         "y": [
          "Einführung in",
          "Einführung in"
         ]
        },
        {
         "line": {
          "color": "#bfeeea",
          "width": 14
         },
         "mode": "lines",
         "name": "Plan",
         "type": "scatter",
         "x": [
          null
         ],
         "y": [
          null
         ]
        },
        {
         "line": {
          "color": "#18a999",
          "width": 14
         },
         "mode": "lines",
         "name": "Ist",
         "type": "scatter",
         "x": [
          null
         ],
         "y": [
          null
         ]
        }
       ],
       "layout": {
        "autosize": true,
        "hovermode": "closest",
        "margin": {
         "b": 40,
         "l": 60,
         "r": 20,
         "t": 60
        },
        "shapes": [
         {
          "line": {
           "color": "gray",
           "dash": "dash",
           "width": 1
          },
          "type": "line",
          "x0": "2025-08-23T00:00:00",
          "x1": "2025-08-23T00:00:00",
          "xref": "x",
          "y0": 0,
          "y1": 1,
          "yref": "y domain"
         }
        ],
        "template": {
         "data": {
          "bar": [
           {
            "error_x": {
             "color": "#2a3f5f"
            },
            "error_y": {
             "color": "#2a3f5f"
            },
            "marker": {
             "line": {
              "color": "white",
              "width": 0.5
             },
             "pattern": {
              "fillmode": "overlay",
              "size": 10,
              "solidity": 0.2
             }
            },
            "type": "bar"
           }
          ],
          "barpolar": [
           {
            "marker": {
             "line": {
              "color": "white",
              "width": 0.5
             },
             "pattern": {
              "fillmode": "overlay",
              "size": 10,
              "solidity": 0.2
             }
            },
            "type": "barpolar"
           }
          ],
          "carpet": [
           {
            "aaxis": {
             "endlinecolor": "#2a3f5f",
             "gridcolor": "#C8D4E3",
             "linecolor": "#C8D4E3",
             "minorgridcolor": "#C8D4E3",
             "startlinecolor": "#2a3f5f"
            },
            "baxis": {
             "endlinecolor": "#2a3f5f",
             "gridcolor": "#C8D4E3",
             "linecolor": "#C8D4E3",
             "minorgridcolor": "#C8D4E3",
             "startlinecolor": "#2a3f5f"
            },
            "type": "carpet"
           }
          ],
          "choropleth": [
           {
            "colorbar": {
             "outlinewidth": 0,
             "ticks": ""
            },
            "type": "choropleth"
           }
          ],
          "contour": [
           {
            "colorbar": {
             "outlinewidth": 0,
             "ticks": ""
            },
            "colorscale": [
             [
              0,
              "#0d0887"
             ],
             [
              0.1111111111111111,
              "#46039f"
             ],
             [
              0.2222222222222222,
              "#7201a8"
             ],
             [
              0.3333333333333333,
              "#9c179e"
             ],
             [
              0.4444444444444444,
              "#bd3786"
             ],
             [
              0.5555555555555556,
              "#d8576b"
             ],
             [
              0.6666666666666666,
              "#ed7953"
             ],
             [
              0.7777777777777778,
              "#fb9f3a"
             ],
             [
              0.8888888888888888,
              "#fdca26"
             ],
             [
              1,
              "#f0f921"
             ]
            ],
            "type": "contour"
           }
          ],
          "contourcarpet": [
           {
            "colorbar": {
             "outlinewidth": 0,
             "ticks": ""
            },
            "type": "contourcarpet"
           }
          ],
          "heatmap": [
           {
            "colorbar": {
             "outlinewidth": 0,
             "ticks": ""
            },
            "colorscale": [
             [
              0,
              "#0d0887"
             ],
             [
              0.1111111111111111,
              "#46039f"
             ],
             [
              0.2222222222222222,
              "#7201a8"
             ],
             [
              0.3333333333333333,
              "#9c179e"
             ],
             [
              0.4444444444444444,
              "#bd3786"
             ],
             [
              0.5555555555555556,
              "#d8576b"
             ],
             [
              0.6666666666666666,
              "#ed7953"
             ],
             [
              0.7777777777777778,
              "#fb9f3a"
             ],
             [
              0.8888888888888888,
              "#fdca26"
             ],
             [
              1,
              "#f0f921"
             ]
            ],
            "type": "heatmap"
           }
          ],
          "heatmapgl": [
           {
            "colorbar": {
             "outlinewidth": 0,
             "ticks": ""
            },
            "colorscale": [
             [
              0,
              "#0d0887"
             ],
             [
              0.1111111111111111,
              "#46039f"
             ],
             [
              0.2222222222222222,
              "#7201a8"
             ],
             [
              0.3333333333333333,
              "#9c179e"
             ],
             [
              0.4444444444444444,
              "#bd3786"
             ],
             [
              0.5555555555555556,
              "#d8576b"
             ],
             [
              0.6666666666666666,
              "#ed7953"
             ],
             [
              0.7777777777777778,
              "#fb9f3a"
             ],
             [
              0.8888888888888888,
              "#fdca26"
             ],
             [
              1,
              "#f0f921"
             ]
            ],
            "type": "heatmapgl"
           }
          ],
          "histogram": [
           {
            "marker": {
             "pattern": {
              "fillmode": "overlay",
              "size": 10,
              "solidity": 0.2
             }
            },
            "type": "histogram"
           }
          ],
          "histogram2d": [
           {
            "colorbar": {
             "outlinewidth": 0,
             "ticks": ""
            },
            "colorscale": [
             [
              0,
              "#0d0887"
             ],
             [
              0.1111111111111111,
              "#46039f"
             ],
             [
              0.2222222222222222,
              "#7201a8"
             ],
             [
              0.3333333333333333,
              "#9c179e"
             ],
             [
              0.4444444444444444,
              "#bd3786"
             ],
             [
              0.5555555555555556,
              "#d8576b"
             ],
             [
              0.6666666666666666,
              "#ed7953"
             ],
             [
              0.7777777777777778,
              "#fb9f3a"
             ],
             [
              0.8888888888888888,
              "#fdca26"
             ],
             [
              1,
              "#f0f921"
             ]
            ],
            "type": "histogram2d"
           }
          ],
          "histogram2dcontour": [
           {
            "colorbar": {
             "outlinewidth": 0,
             "ticks": ""
            },
            "colorscale": [
             [
              0,
              "#0d0887"
             ],
             [
              0.1111111111111111,
              "#46039f"
             ],
             [
              0.2222222222222222,
              "#7201a8"
             ],
             [
              0.3333333333333333,
              "#9c179e"
             ],
             [
              0.4444444444444444,
              "#bd3786"
             ],
             [
              0.5555555555555556,
              "#d8576b"
             ],
             [
              0.6666666666666666,
              "#ed7953"
             ],
             [
              0.7777777777777778,
              "#fb9f3a"
             ],
             [
              0.8888888888888888,
              "#fdca26"
             ],
             [
              1,
              "#f0f921"
             ]
            ],
            "type": "histogram2dcontour"
           }
          ],
          "mesh3d": [
           {
            "colorbar": {
             "outlinewidth": 0,
             "ticks": ""
            },
            "type": "mesh3d"
           }
          ],
          "parcoords": [
           {
            "line": {
             "colorbar": {
              "outlinewidth": 0,
              "ticks": ""
             }
            },
            "type": "parcoords"
           }
          ],
          "pie": [
           {
            "automargin": true,
            "type": "pie"
           }
          ],
          "scatter": [
           {
            "fillpattern": {
             "fillmode": "overlay",
             "size": 10,
             "solidity": 0.2
            },
            "type": "scatter"
           }
          ],
          "scatter3d": [
           {
            "line": {
             "colorbar": {
              "outlinewidth": 0,
              "ticks": ""
             }
            },
            "marker": {
             "colorbar": {
              "outlinewidth": 0,
              "ticks": ""
             }
            },
            "type": "scatter3d"
           }
          ],
          "scattercarpet": [
           {
            "marker": {
             "colorbar": {
              "outlinewidth": 0,
              "ticks": ""
             }
            },
            "type": "scattercarpet"
           }
          ],
          "scattergeo": [
           {
            "marker": {
             "colorbar": {
              "outlinewidth": 0,
              "ticks": ""
             }
            },
            "type": "scattergeo"
           }
          ],
          "scattergl": [
           {
            "marker": {
             "colorbar": {
              "outlinewidth": 0,
              "ticks": ""
             }
            },
            "type": "scattergl"
           }
          ],
          "scattermapbox": [
           {
            "marker": {
             "colorbar": {
              "outlinewidth": 0,
              "ticks": ""
             }
            },
            "type": "scattermapbox"
           }
          ],
          "scatterpolar": [
           {
            "marker": {
             "colorbar": {
              "outlinewidth": 0,
              "ticks": ""
             }
            },
            "type": "scatterpolar"
           }
          ],
          "scatterpolargl": [
           {
            "marker": {
             "colorbar": {
              "outlinewidth": 0,
              "ticks": ""
             }
            },
            "type": "scatterpolargl"
           }
          ],
          "scatterternary": [
           {
            "marker": {
             "colorbar": {
              "outlinewidth": 0,
              "ticks": ""
             }
            },
            "type": "scatterternary"
           }
          ],
          "surface": [
           {
            "colorbar": {
             "outlinewidth": 0,
             "ticks": ""
            },
            "colorscale": [
             [
              0,
              "#0d0887"
             ],
             [
              0.1111111111111111,
              "#46039f"
             ],
             [
              0.2222222222222222,
              "#7201a8"
             ],
             [
              0.3333333333333333,
              "#9c179e"
             ],
             [
              0.4444444444444444,
              "#bd3786"
             ],
             [
              0.5555555555555556,
              "#d8576b"
             ],
             [
              0.6666666666666666,
              "#ed7953"
             ],
             [
              0.7777777777777778,
              "#fb9f3a"
             ],
             [
              0.8888888888888888,
              "#fdca26"
             ],
             [
              1,
              "#f0f921"
             ]
            ],
            "type": "surface"
           }
          ],
          "table": [
           {
            "cells": {
             "fill": {
              "color": "#EBF0F8"
             },
             "line": {
              "color": "white"
             }
            },
            "header": {
             "fill": {
              "color": "#C8D4E3"
             },
             "line": {
              "color": "white"
             }
            },
            "type": "table"
           }
          ]
         },
         "layout": {
          "annotationdefaults": {
           "arrowcolor": "#2a3f5f",
           "arrowhead": 0,
           "arrowwidth": 1
          },
          "autotypenumbers": "strict",
          "coloraxis": {
           "colorbar": {
            "outlinewidth": 0,
            "ticks": ""
           }
          },
          "colorscale": {
           "diverging": [
            [
             0,
             "#8e0152"
            ],
            [
             0.1,
             "#c51b7d"
            ],
            [
             0.2,
             "#de77ae"
            ],
            [
             0.3,
             "#f1b6da"
            ],
            [
             0.4,
             "#fde0ef"
            ],
            [
             0.5,
             "#f7f7f7"
            ],
            [
             0.6,
             "#e6f5d0"
            ],
            [
             0.7,
             "#b8e186"
            ],
            [
             0.8,
             "#7fbc41"
            ],
            [
             0.9,
             "#4d9221"
            ],
            [
             1,
             "#276419"
            ]
           ],
           "sequential": [
            [
             0,
             "#0d0887"
            ],
            [
             0.1111111111111111,
             "#46039f"
            ],
            [
             0.2222222222222222,
             "#7201a8"
            ],
            [
             0.3333333333333333,
             "#9c179e"
            ],
            [
             0.4444444444444444,
             "#bd3786"
            ],
            [
             0.5555555555555556,
             "#d8576b"
            ],
            [
             0.6666666666666666,
             "#ed7953"
            ],
            [
             0.7777777777777778,
             "#fb9f3a"
            ],
            [
             0.8888888888888888,
             "#fdca26"
            ],
            [
             1,
             "#f0f921"
            ]
           ],
           "sequentialminus": [
            [
             0,
             "#0d0887"
            ],
            [
             0.1111111111111111,
             "#46039f"
            ],
            [
             0.2222222222222222,
             "#7201a8"
            ],
            [
             0.3333333333333333,
             "#9c179e"
            ],
            [
             0.4444444444444444,
             "#bd3786"
            ],
            [
             0.5555555555555556,
             "#d8576b"
            ],
            [
             0.6666666666666666,
             "#ed7953"
            ],
            [
             0.7777777777777778,
             "#fb9f3a"
            ],
            [
             0.8888888888888888,
             "#fdca26"
            ],
            [
             1,
             "#f0f921"
            ]
           ]
          },
          "colorway": [
           "#636efa",
           "#EF553B",
           "#00cc96",
           "#ab63fa",
           "#FFA15A",
           "#19d3f3",
           "#FF6692",
           "#B6E880",
           "#FF97FF",
           "#FECB52"
          ],
          "font": {
           "color": "#2a3f5f"
          },
          "geo": {
           "bgcolor": "white",
           "lakecolor": "white",
           "landcolor": "white",
           "showlakes": true,
           "showland": true,
           "subunitcolor": "#C8D4E3"
          },
          "hoverlabel": {
           "align": "left"
          },
          "hovermode": "closest",
          "mapbox": {
           "style": "light"
          },
          "paper_bgcolor": "white",
          "plot_bgcolor": "white",
          "polar": {
           "angularaxis": {
            "gridcolor": "#EBF0F8",
            "linecolor": "#EBF0F8",
            "ticks": ""
           },
           "bgcolor": "white",
           "radialaxis": {
            "gridcolor": "#EBF0F8",
            "linecolor": "#EBF0F8",
            "ticks": ""
           }
          },
          "scene": {
           "xaxis": {
            "backgroundcolor": "white",
            "gridcolor": "#DFE8F3",
            "gridwidth": 2,
            "linecolor": "#EBF0F8",
            "showbackground": true,
            "ticks": "",
            "zerolinecolor": "#EBF0F8"
           },
           "yaxis": {
            "backgroundcolor": "white",
            "gridcolor": "#DFE8F3",
            "gridwidth": 2,
            "linecolor": "#EBF0F8",
            "showbackground": true,
            "ticks": "",
            "zerolinecolor": "#EBF0F8"
           },
           "zaxis": {
            "backgroundcolor": "white",
            "gridcolor": "#DFE8F3",
            "gridwidth": 2,
            "linecolor": "#EBF0F8",
            "showbackground": true,
            "ticks": "",
            "zerolinecolor": "#EBF0F8"
           }
          },
          "shapedefaults": {
           "line": {
            "color": "#2a3f5f"
           }
          },
          "ternary": {
           "aaxis": {
            "gridcolor": "#DFE8F3",
            "linecolor": "#A2B1C6",
            "ticks": ""
           },
           "baxis": {
            "gridcolor": "#DFE8F3",
            "linecolor": "#A2B1C6",
            "ticks": ""
           },
           "bgcolor": "white",
           "caxis": {
            "gridcolor": "#DFE8F3",
            "linecolor": "#A2B1C6",
            "ticks": ""
           }
          },
          "title": {
           "x": 0.05
          },
          "xaxis": {
           "automargin": true,
           "gridcolor": "#EBF0F8",
           "linecolor": "#EBF0F8",
           "ticks": "",
           "title": {
            "standoff": 15
           },
           "zerolinecolor": "#EBF0F8",
           "zerolinewidth": 2
          },
          "yaxis": {
           "automargin": true,
           "gridcolor": "#EBF0F8",
           "linecolor": "#EBF0F8",
           "ticks": "",
           "title": {
            "standoff": 15
           },
           "zerolinecolor": "#EBF0F8",
           "zerolinewidth": 2
          }
         }
        },
        "title": {
         "text": "Kursplan: Soll und Ist (Gantt)"
        },
        "xaxis": {
         "autorange": true,
         "range": [
          "2023-04-01",
          "2025-08-23 20:53:43.8806"
         ],
         "title": {
          "text": "Datum"
         },
         "type": "date"
        },
        "yaxis": {
         "autorange": true,
         "categoryarray": [
          "Programmierung",
          "Mathematik",
          "Datenbanken",
          "Grundlagen der",
          "Requirements Engineering",
          "Spezifikation",
          "Einführung in"
         ],
         "categoryorder": "array",
         "range": [
          6.333333333333333,
          -0.33333333333333337
         ],
         "title": {
          "text": "Kurs"
         },
         "type": "category"
        }
       }
      },
      "image/png": "[encoded data removed]",
      "text/html": [
       "<div>                            <div id=\"f77afad7-ddad-4b9a-a7ee-d4c0c665576d\" class=\"plotly-graph-div\" style=\"height:350px; width:100%;\"></div>            <script type=\"text/javascript\">                require([\"plotly\"], function(Plotly) {                    window.PLOTLYENV=window.PLOTLYENV || {};                                    if (document.getElementById(\"f77afad7-ddad-4b9a-a7ee-d4c0c665576d\")) {                    Plotly.newPlot(                        \"f77afad7-ddad-4b9a-a7ee-d4c0c665576d\",                        [{\"hovertemplate\":\"Programmierung<br>2023-04-01 \\u2013 2023-04-30<extra></extra>\",\"legendgroup\":\"Plan\",\"line\":{\"color\":\"#bfeeea\",\"width\":30},\"mode\":\"lines\",\"name\":\"Plan\",\"showlegend\":false,\"x\":[\"2023-04-01T00:00:00\",\"2023-04-30T00:00:00\"],\"y\":[\"Programmierung\",\"Programmierung\"],\"type\":\"scatter\"},{\"hovertemplate\":\"Mathematik<br>2023-05-01 \\u2013 2023-05-31<extra></extra>\",\"legendgroup\":\"Plan\",\"line\":{\"color\":\"#bfeeea\",\"width\":30},\"mode\":\"lines\",\"name\":\"Plan\",\"showlegend\":false,\"x\":[\"2023-05-01T00:00:00\",\"2023-05-31T00:00:00\"],\"y\":[\"Mathematik\",\"Mathematik\"],\"type\":\"scatter\"},{\"hovertemplate\":\"Datenbanken<br>2023-06-01 \\u2013 2023-06-30<extra></extra>\",\"legendgroup\":\"Plan\",\"line\":{\"color\":\"#bfeeea\",\"width\":30},\"mode\":\"lines\",\"name\":\"Plan\",\"showlegend\":false,\"x\":[\"2023-06-01T00:00:00\",\"2023-06-30T00:00:00\"],\"y\":[\"Datenbanken\",\"Datenbanken\"],\"type\":\"scatter\"},{\"hovertemplate\":\"Grundlagen der<br>2023-07-01 \\u2013 2023-07-31<extra></extra>\",\"legendgroup\":\"Plan\",\"line\":{\"color\":\"#bfeeea\",\"width\":30},\"mode\":\"lines\",\"name\":\"Plan\",\"showlegend\":false,\"x\":[\"2023-07-01T00:00:00\",\"2023-07-31T00:00:00\"],\"y\":[\"Grundlagen der\",\"Grundlagen der\"],\"type\":\"scatter\"},{\"hovertemplate\":\"Requirements Engineering<br>2023-08-01 \\u2013 2023-08-31<extra></extra>\",\"legendgroup\":\"Plan\",\"line\":{\"color\":\"#bfeeea\",\"width\":30},\"mode\":\"lines\",\"name\":\"Plan\",\"showlegend\":false,\"x\":[\"2023-08-01T00:00:00\",\"2023-08-31T00:00:00\"],\"y\":[\"Requirements Engineering\",\"Requirements Engineering\"],\"type\":\"scatter\"},{\"hovertemplate\":\"Spezifikation<br>2023-09-01 \\u2013 2023-09-30<extra></extra>\",\"legendgroup\":\"Plan\",\"line\":{\"color\":\"#bfeeea\",\"width\":30},\"mode\":\"lines\",\"name\":\"Plan\",\"showlegend\":false,\"x\":[\"2023-09-01T00:00:00\",\"2023-09-30T00:00:00\"],\"y\":[\"Spezifikation\",\"Spezifikation\"],\"type\":\"scatter\"},{\"hovertemplate\":\"Einf\\u00fchrung in<br>2023-10-01 \\u2013 2023-10-31<extra></extra>\",\"legendgroup\":\"Plan\",\"line\":{\"color\":\"#bfeeea\",\"width\":30},\"mode\":\"lines\",\"name\":\"Plan\",\"showlegend\":false,\"x\":[\"2023-10-01T00:00:00\",\"2023-10-31T00:00:00\"],\"y\":[\"Einf\\u00fchrung in\",\"Einf\\u00fchrung in\"],\"type\":\"scatter\"},{\"hovertemplate\":\"Programmierung<br>2023-04-01 \\u2013 2023-04-30<extra></extra>\",\"legendgroup\":\"Ist\",\"line\":{\"color\":\"#18a999\",\"width\":30},\"mode\":\"lines\",\"name\":\"Ist\",\"showlegend\":false,\"x\":[\"2023-04-01T00:00:00\",\"2023-04-30T00:00:00\"],\"y\":[\"Programmierung\",\"Programmierung\"],\"type\":\"scatter\"},{\"hovertemplate\":\"Mathematik<br>2023-05-01 \\u2013 2023-05-27<extra></extra>\",\"legendgroup\":\"Ist\",\"line\":{\"color\":\"#18a999\",\"width\":30},\"mode\":\"lines\",\"name\":\"Ist\",\"showlegend\":false,\"x\":[\"2023-05-01T00:00:00\",\"2023-05-27T00:00:00\"],\"y\":[\"Mathematik\",\"Mathematik\"],\"type\":\"scatter\"},{\"hovertemplate\":\"Datenbanken<br>2023-05-27 \\u2013 2023-06-25<extra></extra>\",\"legendgroup\":\"Ist\",\"line\":{\"color\":\"#18a999\",\"width\":30},\"mode\":\"lines\",\"name\":\"Ist\",\"showlegend\":false,\"x\":[\"2023-05-27T00:00:00\",\"2023-06-25T00:00:00\"],\"y\":[\"Datenbanken\",\"Datenbanken\"],\"type\":\"scatter\"},{\"hovertemplate\":\"Grundlagen der<br>2023-06-30 \\u2013 2023-08-03<extra></extra>\",\"legendgroup\":\"Ist\",\"line\":{\"color\":\"#18a999\",\"width\":30},\"mode\":\"lines\",\"name\":\"Ist\",\"showlegend\":false,\"x\":[\"2023-06-30T00:00:00\",\"2023-08-03T00:00:00\"],\"y\":[\"Grundlagen der\",\"Grundlagen der\"],\"type\":\"scatter\"},{\"hovertemplate\":\"Requirements Engineering<br>2023-08-03 \\u2013 2023-09-07<extra></extra>\",\"legendgroup\":\"Ist\",\"line\":{\"color\":\"#18a999\",\"width\":30},\"mode\":\"lines\",\"name\":\"Ist\",\"showlegend\":false,\"x\":[\"2023-08-03T00:00:00\",\"2023-09-07T00:00:00\"],\"y\":[\"Requirements Engineering\",\"Requirements Engineering\"],\"type\":\"scatter\"},{\"hovertemplate\":\"Spezifikation<br>2023-09-08 \\u2013 2023-09-30<extra></extra>\",\"legendgroup\":\"Ist\",\"line\":{\"color\":\"#18a999\",\"width\":30},\"mode\":\"lines\",\"name\":\"Ist\",\"showlegend\":false,\"x\":[\"2023-09-08T00:00:00\",\"2023-09-30T00:00:00\"],\"y\":[\"Spezifikation\",\"Spezifikation\"],\"type\":\"scatter\"},{\"hovertemplate\":\"Einf\\u00fchrung in<br>2023-10-02 \\u2013 2023-11-07<extra></extra>\",\"legendgroup\":\"Ist\",\"line\":{\"color\":\"#18a999\",\"width\":30},\"mode\":\"lines\",\"name\":\"Ist\",\"showlegend\":false,\"x\":[\"2023-10-02T00:00:00\",\"2023-11-07T00:00:00\"],\"y\":[\"Einf\\u00fchrung in\",\"Einf\\u00fchrung in\"],\"type\":\"scatter\"},{\"line\":{\"color\":\"#bfeeea\",\"width\":14},\"mode\":\"lines\",\"name\":\"Plan\",\"x\":[null],\"y\":[null],\"type\":\"scatter\"},{\"line\":{\"color\":\"#18a999\",\"width\":14},\"mode\":\"lines\",\"name\":\"Ist\",\"x\":[null],\"y\":[null],\"type\":\"scatter\"}],                        {\"template\":{\"data\":{\"barpolar\":[{\"marker\":{\"line\":{\"color\":\"white\",\"width\":0.5},\"pattern\":{\"fillmode\":\"overlay\",\"size\":10,\"solidity\":0.2}},\"type\":\"barpolar\"}],\"bar\":[{\"error_x\":{\"color\":\"#2a3f5f\"},\"error_y\":{\"color\":\"#2a3f5f\"},\"marker\":{\"line\":{\"color\":\"white\",\"width\":0.5},\"pattern\":{\"fillmode\":\"overlay\",\"size\":10,\"solidity\":0.2}},\"type\":\"bar\"}],\"carpet\":[{\"aaxis\":{\"endlinecolor\":\"#2a3f5f\",\"gridcolor\":\"#C8D4E3\",\"linecolor\":\"#C8D4E3\",\"minorgridcolor\":\"#C8D4E3\",\"startlinecolor\":\"#2a3f5f\"},\"baxis\":{\"endlinecolor\":\"#2a3f5f\",\"gridcolor\":\"#C8D4E3\",\"linecolor\":\"#C8D4E3\",\"minorgridcolor\":\"#C8D4E3\",\"startlinecolor\":\"#2a3f5f\"},\"type\":\"carpet\"}],\"choropleth\":[{\"colorbar\":{\"outlinewidth\":0,\"ticks\":\"\"},\"type\":\"choropleth\"}],\"contourcarpet\":[{\"colorbar\":{\"outlinewidth\":0,\"ticks\":\"\"},\"type\":\"contourcarpet\"}],\"contour\":[{\"colorbar\":{\"outlinewidth\":0,\"ticks\":\"\"},\"colorscale\":[[0.0,\"#0d0887\"],[0.1111111111111111,\"#46039f\"],[0.2222222222222222,\"#7201a8\"],[0.3333333333333333,\"#9c179e\"],[0.4444444444444444,\"#bd3786\"],[0.5555555555555556,\"#d8576b\"],[0.6666666666666666,\"#ed7953\"],[0.7777777777777778,\"#fb9f3a\"],[0.8888888888888888,\"#fdca26\"],[1.0,\"#f0f921\"]],\"type\":\"contour\"}],\"heatmapgl\":[{\"colorbar\":{\"outlinewidth\":0,\"ticks\":\"\"},\"colorscale\":[[0.0,\"#0d0887\"],[0.1111111111111111,\"#46039f\"],[0.2222222222222222,\"#7201a8\"],[0.3333333333333333,\"#9c179e\"],[0.4444444444444444,\"#bd3786\"],[0.5555555555555556,\"#d8576b\"],[0.6666666666666666,\"#ed7953\"],[0.7777777777777778,\"#fb9f3a\"],[0.8888888888888888,\"#fdca26\"],[1.0,\"#f0f921\"]],\"type\":\"heatmapgl\"}],\"heatmap\":[{\"colorbar\":{\"outlinewidth\":0,\"ticks\":\"\"},\"colorscale\":[[0.0,\"#0d0887\"],[0.1111111111111111,\"#46039f\"],[0.2222222222222222,\"#7201a8\"],[0.3333333333333333,\"#9c179e\"],[0.4444444444444444,\"#bd3786\"],[0.5555555555555556,\"#d8576b\"],[0.6666666666666666,\"#ed7953\"],[0.7777777777777778,\"#fb9f3a\"],[0.8888888888888888,\"#fdca26\"],[1.0,\"#f0f921\"]],\"type\":\"heatmap\"}],\"histogram2dcontour\":[{\"colorbar\":{\"outlinewidth\":0,\"ticks\":\"\"},\"colorscale\":[[0.0,\"#0d0887\"],[0.1111111111111111,\"#46039f\"],[0.2222222222222222,\"#7201a8\"],[0.3333333333333333,\"#9c179e\"],[0.4444444444444444,\"#bd3786\"],[0.5555555555555556,\"#d8576b\"],[0.6666666666666666,\"#ed7953\"],[0.7777777777777778,\"#fb9f3a\"],[0.8888888888888888,\"#fdca26\"],[1.0,\"#f0f921\"]],\"type\":\"histogram2dcontour\"}],\"histogram2d\":[{\"colorbar\":{\"outlinewidth\":0,\"ticks\":\"\"},\"colorscale\":[[0.0,\"#0d0887\"],[0.1111111111111111,\"#46039f\"],[0.2222222222222222,\"#7201a8\"],[0.3333333333333333,\"#9c179e\"],[0.4444444444444444,\"#bd3786\"],[0.5555555555555556,\"#d8576b\"],[0.6666666666666666,\"#ed7953\"],[0.7777777777777778,\"#fb9f3a\"],[0.8888888888888888,\"#fdca26\"],[1.0,\"#f0f921\"]],\"type\":\"histogram2d\"}],\"histogram\":[{\"marker\":{\"pattern\":{\"fillmode\":\"overlay\",\"size\":10,\"solidity\":0.2}},\"type\":\"histogram\"}],\"mesh3d\":[{\"colorbar\":{\"outlinewidth\":0,\"ticks\":\"\"},\"type\":\"mesh3d\"}],\"parcoords\":[{\"line\":{\"colorbar\":{\"outlinewidth\":0,\"ticks\":\"\"}},\"type\":\"parcoords\"}],\"pie\":[{\"automargin\":true,\"type\":\"pie\"}],\"scatter3d\":[{\"line\":{\"colorbar\":{\"outlinewidth\":0,\"ticks\":\"\"}},\"marker\":{\"colorbar\":{\"outlinewidth\":0,\"ticks\":\"\"}},\"type\":\"scatter3d\"}],\"scattercarpet\":[{\"marker\":{\"colorbar\":{\"outlinewidth\":0,\"ticks\":\"\"}},\"type\":\"scattercarpet\"}],\"scattergeo\":[{\"marker\":{\"colorbar\":{\"outlinewidth\":0,\"ticks\":\"\"}},\"type\":\"scattergeo\"}],\"scattergl\":[{\"marker\":{\"colorbar\":{\"outlinewidth\":0,\"ticks\":\"\"}},\"type\":\"scattergl\"}],\"scattermapbox\":[{\"marker\":{\"colorbar\":{\"outlinewidth\":0,\"ticks\":\"\"}},\"type\":\"scattermapbox\"}],\"scatterpolargl\":[{\"marker\":{\"colorbar\":{\"outlinewidth\":0,\"ticks\":\"\"}},\"type\":\"scatterpolargl\"}],\"scatterpolar\":[{\"marker\":{\"colorbar\":{\"outlinewidth\":0,\"ticks\":\"\"}},\"type\":\"scatterpolar\"}],\"scatter\":[{\"fillpattern\":{\"fillmode\":\"overlay\",\"size\":10,\"solidity\":0.2},\"type\":\"scatter\"}],\"scatterternary\":[{\"marker\":{\"colorbar\":{\"outlinewidth\":0,\"ticks\":\"\"}},\"type\":\"scatterternary\"}],\"surface\":[{\"colorbar\":{\"outlinewidth\":0,\"ticks\":\"\"},\"colorscale\":[[0.0,\"#0d0887\"],[0.1111111111111111,\"#46039f\"],[0.2222222222222222,\"#7201a8\"],[0.3333333333333333,\"#9c179e\"],[0.4444444444444444,\"#bd3786\"],[0.5555555555555556,\"#d8576b\"],[0.6666666666666666,\"#ed7953\"],[0.7777777777777778,\"#fb9f3a\"],[0.8888888888888888,\"#fdca26\"],[1.0,\"#f0f921\"]],\"type\":\"surface\"}],\"table\":[{\"cells\":{\"fill\":{\"color\":\"#EBF0F8\"},\"line\":{\"color\":\"white\"}},\"header\":{\"fill\":{\"color\":\"#C8D4E3\"},\"line\":{\"color\":\"white\"}},\"type\":\"table\"}]},\"layout\":{\"annotationdefaults\":{\"arrowcolor\":\"#2a3f5f\",\"arrowhead\":0,\"arrowwidth\":1},\"autotypenumbers\":\"strict\",\"coloraxis\":{\"colorbar\":{\"outlinewidth\":0,\"ticks\":\"\"}},\"colorscale\":{\"diverging\":[[0,\"#8e0152\"],[0.1,\"#c51b7d\"],[0.2,\"#de77ae\"],[0.3,\"#f1b6da\"],[0.4,\"#fde0ef\"],[0.5,\"#f7f7f7\"],[0.6,\"#e6f5d0\"],[0.7,\"#b8e186\"],[0.8,\"#7fbc41\"],[0.9,\"#4d9221\"],[1,\"#276419\"]],\"sequential\":[[0.0,\"#0d0887\"],[0.1111111111111111,\"#46039f\"],[0.2222222222222222,\"#7201a8\"],[0.3333333333333333,\"#9c179e\"],[0.4444444444444444,\"#bd3786\"],[0.5555555555555556,\"#d8576b\"],[0.6666666666666666,\"#ed7953\"],[0.7777777777777778,\"#fb9f3a\"],[0.8888888888888888,\"#fdca26\"],[1.0,\"#f0f921\"]],\"sequentialminus\":[[0.0,\"#0d0887\"],[0.1111111111111111,\"#46039f\"],[0.2222222222222222,\"#7201a8\"],[0.3333333333333333,\"#9c179e\"],[0.4444444444444444,\"#bd3786\"],[0.5555555555555556,\"#d8576b\"],[0.6666666666666666,\"#ed7953\"],[0.7777777777777778,\"#fb9f3a\"],[0.8888888888888888,\"#fdca26\"],[1.0,\"#f0f921\"]]},\"colorway\":[\"#636efa\",\"#EF553B\",\"#00cc96\",\"#ab63fa\",\"#FFA15A\",\"#19d3f3\",\"#FF6692\",\"#B6E880\",\"#FF97FF\",\"#FECB52\"],\"font\":{\"color\":\"#2a3f5f\"},\"geo\":{\"bgcolor\":\"white\",\"lakecolor\":\"white\",\"landcolor\":\"white\",\"showlakes\":true,\"showland\":true,\"subunitcolor\":\"#C8D4E3\"},\"hoverlabel\":{\"align\":\"left\"},\"hovermode\":\"closest\",\"mapbox\":{\"style\":\"light\"},\"paper_bgcolor\":\"white\",\"plot_bgcolor\":\"white\",\"polar\":{\"angularaxis\":{\"gridcolor\":\"#EBF0F8\",\"linecolor\":\"#EBF0F8\",\"ticks\":\"\"},\"bgcolor\":\"white\",\"radialaxis\":{\"gridcolor\":\"#EBF0F8\",\"linecolor\":\"#EBF0F8\",\"ticks\":\"\"}},\"scene\":{\"xaxis\":{\"backgroundcolor\":\"white\",\"gridcolor\":\"#DFE8F3\",\"gridwidth\":2,\"linecolor\":\"#EBF0F8\",\"showbackground\":true,\"ticks\":\"\",\"zerolinecolor\":\"#EBF0F8\"},\"yaxis\":{\"backgroundcolor\":\"white\",\"gridcolor\":\"#DFE8F3\",\"gridwidth\":2,\"linecolor\":\"#EBF0F8\",\"showbackground\":true,\"ticks\":\"\",\"zerolinecolor\":\"#EBF0F8\"},\"zaxis\":{\"backgroundcolor\":\"white\",\"gridcolor\":\"#DFE8F3\",\"gridwidth\":2,\"linecolor\":\"#EBF0F8\",\"showbackground\":true,\"ticks\":\"\",\"zerolinecolor\":\"#EBF0F8\"}},\"shapedefaults\":{\"line\":{\"color\":\"#2a3f5f\"}},\"ternary\":{\"aaxis\":{\"gridcolor\":\"#DFE8F3\",\"linecolor\":\"#A2B1C6\",\"ticks\":\"\"},\"baxis\":{\"gridcolor\":\"#DFE8F3\",\"linecolor\":\"#A2B1C6\",\"ticks\":\"\"},\"bgcolor\":\"white\",\"caxis\":{\"gridcolor\":\"#DFE8F3\",\"linecolor\":\"#A2B1C6\",\"ticks\":\"\"}},\"title\":{\"x\":0.05},\"xaxis\":{\"automargin\":true,\"gridcolor\":\"#EBF0F8\",\"linecolor\":\"#EBF0F8\",\"ticks\":\"\",\"title\":{\"standoff\":15},\"zerolinecolor\":\"#EBF0F8\",\"zerolinewidth\":2},\"yaxis\":{\"automargin\":true,\"gridcolor\":\"#EBF0F8\",\"linecolor\":\"#EBF0F8\",\"ticks\":\"\",\"title\":{\"standoff\":15},\"zerolinecolor\":\"#EBF0F8\",\"zerolinewidth\":2}}},\"shapes\":[{\"line\":{\"color\":\"gray\",\"dash\":\"dash\",\"width\":1},\"type\":\"line\",\"x0\":\"2025-08-23T00:00:00\",\"x1\":\"2025-08-23T00:00:00\",\"xref\":\"x\",\"y0\":0,\"y1\":1,\"yref\":\"y domain\"}],\"margin\":{\"l\":60,\"r\":20,\"t\":60,\"b\":40},\"title\":{\"text\":\"Kursplan: Soll und Ist (Gantt)\"},\"xaxis\":{\"title\":{\"text\":\"Datum\"}},\"yaxis\":{\"title\":{\"text\":\"Kurs\"},\"categoryorder\":\"array\",\"categoryarray\":[\"Programmierung\",\"Mathematik\",\"Datenbanken\",\"Grundlagen der\",\"Requirements Engineering\",\"Spezifikation\",\"Einf\\u00fchrung in\"],\"autorange\":\"reversed\"},\"hovermode\":\"closest\",\"height\":350},                        {\"responsive\": true}                    ).then(function(){\n",
       "                            \n",
       "var gd = document.getElementById('f77afad7-ddad-4b9a-a7ee-d4c0c665576d');\n",
       "var x = new MutationObserver(function (mutations, observer) {{\n",
       "        var display = window.getComputedStyle(gd).display;\n",
       "        if (!display || display === 'none') {{\n",
       "            console.log([gd, 'removed!']);\n",
       "            Plotly.purge(gd);\n",
       "            observer.disconnect();\n",
       "        }}\n",
       "}});\n",
       "\n",
       "// Listen for the removal of the full notebook cells\n",
       "var notebookContainer = gd.closest('#notebook-container');\n",
       "if (notebookContainer) {{\n",
       "    x.observe(notebookContainer, {childList: true});\n",
       "}}\n",
       "\n",
       "// Listen for the clearing of the current output cell\n",
       "var outputEl = gd.closest('.output');\n",
       "if (outputEl) {{\n",
       "    x.observe(outputEl, {childList: true});\n",
       "}}\n",
       "\n",
       "                        })                };                });            </script>        </div>"
      ]
     },
     "metadata": {},
     "output_type": "display_data"
    }
   ],
   "source": [
    "import sqlite3, pandas as pd\n",
    "import plotly.graph_objects as go\n",
    "from pandas.tseries.offsets import DateOffset\n",
    "\n",
    "DB_PATH      = r\"C:/Users/kaja/Coding/studium_dashboard/studium.db\"\n",
    "STUDIENSTART = pd.to_datetime(\"2023-04-01\")\n",
    "HEUTE        = pd.Timestamp.today().normalize()\n",
    "\n",
    "# --------- Daten laden (Start/Ende je Kurs) ----------\n",
    "con = sqlite3.connect(DB_PATH)\n",
    "df = pd.read_sql_query(\"\"\"\n",
    "    SELECT k.id, k.name, k.ects, b.start_datum, b.abgabe_datum\n",
    "    FROM kurs k\n",
    "    LEFT JOIN bearbeitung b ON b.kurs_id = k.id\n",
    "    ORDER BY k.id\n",
    "\"\"\", con)\n",
    "con.close()\n",
    "\n",
    "df[\"start_datum\"]  = pd.to_datetime(df[\"start_datum\"],  errors=\"coerce\")\n",
    "df[\"abgabe_datum\"] = pd.to_datetime(df[\"abgabe_datum\"], errors=\"coerce\")\n",
    "df[\"kurs_kurz\"]    = df[\"name\"].apply(lambda s: \" \".join(s.split()[:2]))\n",
    "\n",
    "# --------- Plan (Faustregel: 5 ECTS ≙ 1 Monat) ----------\n",
    "plan_pointer = STUDIENSTART\n",
    "plan_rows = []\n",
    "for _, r in df.iterrows():\n",
    "    monate = max(int(round((r[\"ects\"] or 0) / 5.0)), 1)\n",
    "    start = plan_pointer\n",
    "    ende  = (start + DateOffset(months=monate)) - pd.Timedelta(days=1)\n",
    "    plan_pointer = ende + pd.Timedelta(days=1)\n",
    "    plan_rows.append({\"gruppe\":\"Plan\",\"kurs\":r[\"kurs_kurz\"],\"start\":start,\"ende\":ende})\n",
    "df_plan = pd.DataFrame(plan_rows)\n",
    "\n",
    "# --------- Ist (laufend bis heute, sonst bis Abgabe) ----------\n",
    "ist_rows = []\n",
    "for _, r in df.iterrows():\n",
    "    if pd.notna(r[\"start_datum\"]):\n",
    "        ende = r[\"abgabe_datum\"] if pd.notna(r[\"abgabe_datum\"]) else HEUTE\n",
    "        ist_rows.append({\"gruppe\":\"Ist\",\"kurs\":r[\"kurs_kurz\"],\"start\":r[\"start_datum\"],\"ende\":ende})\n",
    "df_ist = pd.DataFrame(ist_rows)\n",
    "\n",
    "# --------- Zusammenführen & validieren ----------\n",
    "df_gantt = pd.concat([df_plan, df_ist], ignore_index=True)\n",
    "df_gantt[\"start\"] = pd.to_datetime(df_gantt[\"start\"], errors=\"coerce\")\n",
    "df_gantt[\"ende\"]  = pd.to_datetime(df_gantt[\"ende\"],  errors=\"coerce\")\n",
    "df_gantt = df_gantt.dropna(subset=[\"start\",\"ende\"])\n",
    "df_gantt = df_gantt[df_gantt[\"ende\"] >= df_gantt[\"start\"]]\n",
    "\n",
    "# Y-Reihenfolge: nach erstem Start, oben = früh begonnene Kurse\n",
    "y_order = (df_gantt.groupby(\"kurs\")[\"start\"].min().sort_values().index.tolist())\n",
    "\n",
    "# --------- Plot: horizontale „Balken“ als Linien ----------\n",
    "fig = go.Figure()\n",
    "farben = {\"Plan\":\"#bfeeea\", \"Ist\":\"#18a999\"}\n",
    "\n",
    "def add_segment(sub, farbe, name):\n",
    "    for _, row in sub.iterrows():\n",
    "        fig.add_trace(go.Scatter(\n",
    "            x=[row[\"start\"], row[\"ende\"]],\n",
    "            y=[row[\"kurs\"],  row[\"kurs\"]],\n",
    "            mode=\"lines\",\n",
    "            line=dict(color=farbe, width=30),  # <-- dickere Balken (vorher 14)\n",
    "            name=name,\n",
    "            legendgroup=name,\n",
    "            hovertemplate=(\n",
    "                f\"{row['kurs']}<br>\"\n",
    "                f\"{row['start']:%Y-%m-%d} – {row['ende']:%Y-%m-%d}\"\n",
    "                \"<extra></extra>\"\n",
    "            ),\n",
    "            showlegend=False\n",
    "        ))\n",
    "\n",
    "add_segment(df_plan, farben[\"Plan\"], \"Plan\")\n",
    "add_segment(df_ist,  farben[\"Ist\"],  \"Ist\")\n",
    "\n",
    "# Legendenpunkte hinzufügen (ohne Daten, nur zur Erklärung)\n",
    "fig.add_trace(go.Scatter(x=[None], y=[None], mode=\"lines\",\n",
    "                         line=dict(color=farben[\"Plan\"], width=14), name=\"Plan\"))\n",
    "fig.add_trace(go.Scatter(x=[None], y=[None], mode=\"lines\",\n",
    "                         line=dict(color=farben[\"Ist\"], width=14),  name=\"Ist\"))\n",
    "\n",
    "# Heute-Linie (echtes Python-datetime)\n",
    "fig.add_vline(x=HEUTE.to_pydatetime(), line_width=1, line_dash=\"dash\", line_color=\"gray\")\n",
    "\n",
    "fig.update_layout(\n",
    "    title=\"Kursplan: Soll und Ist (Gantt)\",\n",
    "    xaxis_title=\"Datum\",\n",
    "    yaxis_title=\"Kurs\",\n",
    "    template=\"plotly_white\",\n",
    "    hovermode=\"closest\",\n",
    "    height=350,  # <-- kompaktere Höhe (vorher 520)\n",
    "    margin=dict(l=60, r=20, t=60, b=40)\n",
    ")\n",
    "fig.update_yaxes(categoryorder=\"array\", categoryarray=y_order, autorange=\"reversed\")\n",
    "\n",
    "fig.show()\n"
   ]
  },
  {
   "cell_type": "code",
   "execution_count": null,
   "id": "a5b5b0df-1da3-4525-8685-ab4973609c13",
   "metadata": {},
   "outputs": [],
   "source": []
  }
 ],
 "metadata": {
  "kernelspec": {
   "display_name": "Python [conda env:base] *",
   "language": "python",
   "name": "conda-base-py"
  },
  "language_info": {
   "codemirror_mode": {
    "name": "ipython",
    "version": 3
   },
   "file_extension": ".py",
   "mimetype": "text/x-python",
   "name": "python",
   "nbconvert_exporter": "python",
   "pygments_lexer": "ipython3",
   "version": "3.11.7"
  }
 },
 "nbformat": 4,
 "nbformat_minor": 5
}
